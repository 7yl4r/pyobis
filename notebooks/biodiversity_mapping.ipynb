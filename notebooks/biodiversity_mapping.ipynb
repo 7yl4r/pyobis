{
  "nbformat": 4,
  "nbformat_minor": 0,
  "metadata": {
    "colab": {
      "provenance": [],
      "collapsed_sections": [],
      "authorship_tag": "ABX9TyOIaduKjplCXDvhVVTSHE7H",
      "include_colab_link": true
    },
    "kernelspec": {
      "name": "python3",
      "display_name": "Python 3"
    },
    "language_info": {
      "name": "python"
    },
    "widgets": {
      "application/vnd.jupyter.widget-state+json": {
        "a4d94c59e0704675a02b1f80304996c4": {
          "model_module": "@jupyter-widgets/controls",
          "model_name": "VBoxModel",
          "model_module_version": "1.5.0",
          "state": {
            "_dom_classes": [],
            "_model_module": "@jupyter-widgets/controls",
            "_model_module_version": "1.5.0",
            "_model_name": "VBoxModel",
            "_view_count": null,
            "_view_module": "@jupyter-widgets/controls",
            "_view_module_version": "1.5.0",
            "_view_name": "VBoxView",
            "box_style": "",
            "children": [
              "IPY_MODEL_418c7945b2324a858664433ce05e00c1",
              "IPY_MODEL_c8aafef54f5b4aceb2cbca6835e1bb0d"
            ],
            "layout": "IPY_MODEL_1c4171c6f85c49dca97a3d88f53df4bd"
          }
        },
        "418c7945b2324a858664433ce05e00c1": {
          "model_module": "@jupyter-widgets/controls",
          "model_name": "HBoxModel",
          "model_module_version": "1.5.0",
          "state": {
            "_dom_classes": [],
            "_model_module": "@jupyter-widgets/controls",
            "_model_module_version": "1.5.0",
            "_model_name": "HBoxModel",
            "_view_count": null,
            "_view_module": "@jupyter-widgets/controls",
            "_view_module_version": "1.5.0",
            "_view_name": "HBoxView",
            "box_style": "",
            "children": [
              "IPY_MODEL_0e8875d46c6d479593bc02ecd0b10ef5",
              "IPY_MODEL_ad3c006bfbe34f349b55a6c3600f9a0a"
            ],
            "layout": "IPY_MODEL_7297b29ede474b14a95cccf0768f3b2e"
          }
        },
        "c8aafef54f5b4aceb2cbca6835e1bb0d": {
          "model_module": "@jupyter-widgets/controls",
          "model_name": "VBoxModel",
          "model_module_version": "1.5.0",
          "state": {
            "_dom_classes": [],
            "_model_module": "@jupyter-widgets/controls",
            "_model_module_version": "1.5.0",
            "_model_name": "VBoxModel",
            "_view_count": null,
            "_view_module": "@jupyter-widgets/controls",
            "_view_module_version": "1.5.0",
            "_view_name": "VBoxView",
            "box_style": "",
            "children": [
              "IPY_MODEL_d900866cae41479382c6d98d319cb76a",
              "IPY_MODEL_1b3dd46e9c61481185a2b2fb9e8a710e"
            ],
            "layout": "IPY_MODEL_22ad713724b4410281e5a8b8f9e69f65"
          }
        },
        "1c4171c6f85c49dca97a3d88f53df4bd": {
          "model_module": "@jupyter-widgets/base",
          "model_name": "LayoutModel",
          "model_module_version": "1.2.0",
          "state": {
            "_model_module": "@jupyter-widgets/base",
            "_model_module_version": "1.2.0",
            "_model_name": "LayoutModel",
            "_view_count": null,
            "_view_module": "@jupyter-widgets/base",
            "_view_module_version": "1.2.0",
            "_view_name": "LayoutView",
            "align_content": null,
            "align_items": null,
            "align_self": null,
            "border": null,
            "bottom": null,
            "display": null,
            "flex": null,
            "flex_flow": null,
            "grid_area": null,
            "grid_auto_columns": null,
            "grid_auto_flow": null,
            "grid_auto_rows": null,
            "grid_column": null,
            "grid_gap": null,
            "grid_row": null,
            "grid_template_areas": null,
            "grid_template_columns": null,
            "grid_template_rows": null,
            "height": null,
            "justify_content": null,
            "justify_items": null,
            "left": null,
            "margin": null,
            "max_height": null,
            "max_width": null,
            "min_height": null,
            "min_width": null,
            "object_fit": null,
            "object_position": null,
            "order": null,
            "overflow": null,
            "overflow_x": null,
            "overflow_y": null,
            "padding": null,
            "right": null,
            "top": null,
            "visibility": null,
            "width": null
          }
        },
        "0e8875d46c6d479593bc02ecd0b10ef5": {
          "model_module": "@jupyter-widgets/controls",
          "model_name": "IntTextModel",
          "model_module_version": "1.5.0",
          "state": {
            "_dom_classes": [],
            "_model_module": "@jupyter-widgets/controls",
            "_model_module_version": "1.5.0",
            "_model_name": "IntTextModel",
            "_view_count": null,
            "_view_module": "@jupyter-widgets/controls",
            "_view_module_version": "1.5.0",
            "_view_name": "IntTextView",
            "continuous_update": false,
            "description": "Enter Taxon ID",
            "description_tooltip": null,
            "disabled": false,
            "layout": "IPY_MODEL_7063f228515b497ca8589d9b71c04fdf",
            "step": 1,
            "style": "IPY_MODEL_32442f1c7a3e4fe09b2dcefbcfdf72f4",
            "value": 127405
          }
        },
        "ad3c006bfbe34f349b55a6c3600f9a0a": {
          "model_module": "@jupyter-widgets/controls",
          "model_name": "ButtonModel",
          "model_module_version": "1.5.0",
          "state": {
            "_dom_classes": [],
            "_model_module": "@jupyter-widgets/controls",
            "_model_module_version": "1.5.0",
            "_model_name": "ButtonModel",
            "_view_count": null,
            "_view_module": "@jupyter-widgets/controls",
            "_view_module_version": "1.5.0",
            "_view_name": "ButtonView",
            "button_style": "",
            "description": "Fetch Data",
            "disabled": false,
            "icon": "",
            "layout": "IPY_MODEL_a2ab7f7a4d4f4e9e9a54e33b3d82b8de",
            "style": "IPY_MODEL_e24d8863a99646a3a9c4e66d30af6568",
            "tooltip": ""
          }
        },
        "7297b29ede474b14a95cccf0768f3b2e": {
          "model_module": "@jupyter-widgets/base",
          "model_name": "LayoutModel",
          "model_module_version": "1.2.0",
          "state": {
            "_model_module": "@jupyter-widgets/base",
            "_model_module_version": "1.2.0",
            "_model_name": "LayoutModel",
            "_view_count": null,
            "_view_module": "@jupyter-widgets/base",
            "_view_module_version": "1.2.0",
            "_view_name": "LayoutView",
            "align_content": null,
            "align_items": null,
            "align_self": null,
            "border": null,
            "bottom": null,
            "display": null,
            "flex": null,
            "flex_flow": null,
            "grid_area": null,
            "grid_auto_columns": null,
            "grid_auto_flow": null,
            "grid_auto_rows": null,
            "grid_column": null,
            "grid_gap": null,
            "grid_row": null,
            "grid_template_areas": null,
            "grid_template_columns": null,
            "grid_template_rows": null,
            "height": null,
            "justify_content": null,
            "justify_items": null,
            "left": null,
            "margin": null,
            "max_height": null,
            "max_width": null,
            "min_height": null,
            "min_width": null,
            "object_fit": null,
            "object_position": null,
            "order": null,
            "overflow": null,
            "overflow_x": null,
            "overflow_y": null,
            "padding": null,
            "right": null,
            "top": null,
            "visibility": null,
            "width": null
          }
        },
        "d900866cae41479382c6d98d319cb76a": {
          "model_module": "@jupyter-widgets/controls",
          "model_name": "HBoxModel",
          "model_module_version": "1.5.0",
          "state": {
            "_dom_classes": [],
            "_model_module": "@jupyter-widgets/controls",
            "_model_module_version": "1.5.0",
            "_model_name": "HBoxModel",
            "_view_count": null,
            "_view_module": "@jupyter-widgets/controls",
            "_view_module_version": "1.5.0",
            "_view_name": "HBoxView",
            "box_style": "",
            "children": [
              "IPY_MODEL_0e55ba69098e46bc9f72124a4f5d35e1",
              "IPY_MODEL_daf7f068753e4681b3cd3371cd71c010",
              "IPY_MODEL_b92aa8168bc04f62bde7c06d3b622a8f"
            ],
            "layout": "IPY_MODEL_b0e0acd491ef432b90740f59da2537b8"
          }
        },
        "1b3dd46e9c61481185a2b2fb9e8a710e": {
          "model_module": "@jupyter-widgets/controls",
          "model_name": "VBoxModel",
          "model_module_version": "1.5.0",
          "state": {
            "_dom_classes": [],
            "_model_module": "@jupyter-widgets/controls",
            "_model_module_version": "1.5.0",
            "_model_name": "VBoxModel",
            "_view_count": null,
            "_view_module": "@jupyter-widgets/controls",
            "_view_module_version": "1.5.0",
            "_view_name": "VBoxView",
            "box_style": "",
            "children": [
              "IPY_MODEL_1fd5d96463b1428ba3cf0092c0f8c9a4",
              "IPY_MODEL_7786d85685c547e99ec5288431cc09f7"
            ],
            "layout": "IPY_MODEL_e3faa658c2d4469fac0e2906e7a59440"
          }
        },
        "22ad713724b4410281e5a8b8f9e69f65": {
          "model_module": "@jupyter-widgets/base",
          "model_name": "LayoutModel",
          "model_module_version": "1.2.0",
          "state": {
            "_model_module": "@jupyter-widgets/base",
            "_model_module_version": "1.2.0",
            "_model_name": "LayoutModel",
            "_view_count": null,
            "_view_module": "@jupyter-widgets/base",
            "_view_module_version": "1.2.0",
            "_view_name": "LayoutView",
            "align_content": null,
            "align_items": null,
            "align_self": null,
            "border": null,
            "bottom": null,
            "display": null,
            "flex": null,
            "flex_flow": null,
            "grid_area": null,
            "grid_auto_columns": null,
            "grid_auto_flow": null,
            "grid_auto_rows": null,
            "grid_column": null,
            "grid_gap": null,
            "grid_row": null,
            "grid_template_areas": null,
            "grid_template_columns": null,
            "grid_template_rows": null,
            "height": null,
            "justify_content": null,
            "justify_items": null,
            "left": null,
            "margin": null,
            "max_height": null,
            "max_width": null,
            "min_height": null,
            "min_width": null,
            "object_fit": null,
            "object_position": null,
            "order": null,
            "overflow": null,
            "overflow_x": null,
            "overflow_y": null,
            "padding": null,
            "right": null,
            "top": null,
            "visibility": null,
            "width": null
          }
        },
        "7063f228515b497ca8589d9b71c04fdf": {
          "model_module": "@jupyter-widgets/base",
          "model_name": "LayoutModel",
          "model_module_version": "1.2.0",
          "state": {
            "_model_module": "@jupyter-widgets/base",
            "_model_module_version": "1.2.0",
            "_model_name": "LayoutModel",
            "_view_count": null,
            "_view_module": "@jupyter-widgets/base",
            "_view_module_version": "1.2.0",
            "_view_name": "LayoutView",
            "align_content": null,
            "align_items": null,
            "align_self": null,
            "border": null,
            "bottom": null,
            "display": null,
            "flex": null,
            "flex_flow": null,
            "grid_area": null,
            "grid_auto_columns": null,
            "grid_auto_flow": null,
            "grid_auto_rows": null,
            "grid_column": null,
            "grid_gap": null,
            "grid_row": null,
            "grid_template_areas": null,
            "grid_template_columns": null,
            "grid_template_rows": null,
            "height": null,
            "justify_content": null,
            "justify_items": null,
            "left": null,
            "margin": null,
            "max_height": null,
            "max_width": null,
            "min_height": null,
            "min_width": null,
            "object_fit": null,
            "object_position": null,
            "order": null,
            "overflow": null,
            "overflow_x": null,
            "overflow_y": null,
            "padding": null,
            "right": null,
            "top": null,
            "visibility": null,
            "width": null
          }
        },
        "32442f1c7a3e4fe09b2dcefbcfdf72f4": {
          "model_module": "@jupyter-widgets/controls",
          "model_name": "DescriptionStyleModel",
          "model_module_version": "1.5.0",
          "state": {
            "_model_module": "@jupyter-widgets/controls",
            "_model_module_version": "1.5.0",
            "_model_name": "DescriptionStyleModel",
            "_view_count": null,
            "_view_module": "@jupyter-widgets/base",
            "_view_module_version": "1.2.0",
            "_view_name": "StyleView",
            "description_width": ""
          }
        },
        "a2ab7f7a4d4f4e9e9a54e33b3d82b8de": {
          "model_module": "@jupyter-widgets/base",
          "model_name": "LayoutModel",
          "model_module_version": "1.2.0",
          "state": {
            "_model_module": "@jupyter-widgets/base",
            "_model_module_version": "1.2.0",
            "_model_name": "LayoutModel",
            "_view_count": null,
            "_view_module": "@jupyter-widgets/base",
            "_view_module_version": "1.2.0",
            "_view_name": "LayoutView",
            "align_content": null,
            "align_items": null,
            "align_self": null,
            "border": null,
            "bottom": null,
            "display": null,
            "flex": null,
            "flex_flow": null,
            "grid_area": null,
            "grid_auto_columns": null,
            "grid_auto_flow": null,
            "grid_auto_rows": null,
            "grid_column": null,
            "grid_gap": null,
            "grid_row": null,
            "grid_template_areas": null,
            "grid_template_columns": null,
            "grid_template_rows": null,
            "height": null,
            "justify_content": null,
            "justify_items": null,
            "left": null,
            "margin": null,
            "max_height": null,
            "max_width": null,
            "min_height": null,
            "min_width": null,
            "object_fit": null,
            "object_position": null,
            "order": null,
            "overflow": null,
            "overflow_x": null,
            "overflow_y": null,
            "padding": null,
            "right": null,
            "top": null,
            "visibility": null,
            "width": null
          }
        },
        "e24d8863a99646a3a9c4e66d30af6568": {
          "model_module": "@jupyter-widgets/controls",
          "model_name": "ButtonStyleModel",
          "model_module_version": "1.5.0",
          "state": {
            "_model_module": "@jupyter-widgets/controls",
            "_model_module_version": "1.5.0",
            "_model_name": "ButtonStyleModel",
            "_view_count": null,
            "_view_module": "@jupyter-widgets/base",
            "_view_module_version": "1.2.0",
            "_view_name": "StyleView",
            "button_color": null,
            "font_weight": ""
          }
        },
        "0e55ba69098e46bc9f72124a4f5d35e1": {
          "model_module": "@jupyter-widgets/output",
          "model_name": "OutputModel",
          "model_module_version": "1.0.0",
          "state": {
            "_dom_classes": [],
            "_model_module": "@jupyter-widgets/output",
            "_model_module_version": "1.0.0",
            "_model_name": "OutputModel",
            "_view_count": null,
            "_view_module": "@jupyter-widgets/output",
            "_view_module_version": "1.0.0",
            "_view_name": "OutputView",
            "layout": "IPY_MODEL_1a0cdbd0dbff48aaba42549a1cb4711b",
            "msg_id": "",
            "outputs": [
              {
                "output_type": "display_data",
                "data": {
                  "text/plain": "<Figure size 360x360 with 1 Axes>",
                  "image/png": "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\n"
                },
                "metadata": {}
              }
            ]
          }
        },
        "daf7f068753e4681b3cd3371cd71c010": {
          "model_module": "@jupyter-widgets/output",
          "model_name": "OutputModel",
          "model_module_version": "1.0.0",
          "state": {
            "_dom_classes": [],
            "_model_module": "@jupyter-widgets/output",
            "_model_module_version": "1.0.0",
            "_model_name": "OutputModel",
            "_view_count": null,
            "_view_module": "@jupyter-widgets/output",
            "_view_module_version": "1.0.0",
            "_view_name": "OutputView",
            "layout": "IPY_MODEL_640986bd0c444d42a6c1e6015e372d95",
            "msg_id": "",
            "outputs": [
              {
                "output_type": "display_data",
                "data": {
                  "text/plain": "<Figure size 792x432 with 2 Axes>",
                  "image/png": "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\n"
                },
                "metadata": {}
              }
            ]
          }
        },
        "b92aa8168bc04f62bde7c06d3b622a8f": {
          "model_module": "@jupyter-widgets/output",
          "model_name": "OutputModel",
          "model_module_version": "1.0.0",
          "state": {
            "_dom_classes": [],
            "_model_module": "@jupyter-widgets/output",
            "_model_module_version": "1.0.0",
            "_model_name": "OutputModel",
            "_view_count": null,
            "_view_module": "@jupyter-widgets/output",
            "_view_module_version": "1.0.0",
            "_view_name": "OutputView",
            "layout": "IPY_MODEL_0430f740c2ef421ba363a465f4da6477",
            "msg_id": "",
            "outputs": [
              {
                "output_type": "stream",
                "name": "stdout",
                "text": "graph output\n"
              },
              {
                "output_type": "stream",
                "name": "stdout",
                "text": null
              }
            ]
          }
        },
        "b0e0acd491ef432b90740f59da2537b8": {
          "model_module": "@jupyter-widgets/base",
          "model_name": "LayoutModel",
          "model_module_version": "1.2.0",
          "state": {
            "_model_module": "@jupyter-widgets/base",
            "_model_module_version": "1.2.0",
            "_model_name": "LayoutModel",
            "_view_count": null,
            "_view_module": "@jupyter-widgets/base",
            "_view_module_version": "1.2.0",
            "_view_name": "LayoutView",
            "align_content": null,
            "align_items": null,
            "align_self": null,
            "border": null,
            "bottom": null,
            "display": null,
            "flex": null,
            "flex_flow": null,
            "grid_area": null,
            "grid_auto_columns": null,
            "grid_auto_flow": null,
            "grid_auto_rows": null,
            "grid_column": null,
            "grid_gap": null,
            "grid_row": null,
            "grid_template_areas": null,
            "grid_template_columns": null,
            "grid_template_rows": null,
            "height": null,
            "justify_content": null,
            "justify_items": null,
            "left": null,
            "margin": null,
            "max_height": null,
            "max_width": null,
            "min_height": null,
            "min_width": null,
            "object_fit": null,
            "object_position": null,
            "order": null,
            "overflow": null,
            "overflow_x": null,
            "overflow_y": null,
            "padding": null,
            "right": null,
            "top": null,
            "visibility": null,
            "width": null
          }
        },
        "1fd5d96463b1428ba3cf0092c0f8c9a4": {
          "model_module": "@jupyter-widgets/controls",
          "model_name": "HBoxModel",
          "model_module_version": "1.5.0",
          "state": {
            "_dom_classes": [],
            "_model_module": "@jupyter-widgets/controls",
            "_model_module_version": "1.5.0",
            "_model_name": "HBoxModel",
            "_view_count": null,
            "_view_module": "@jupyter-widgets/controls",
            "_view_module_version": "1.5.0",
            "_view_name": "HBoxView",
            "box_style": "",
            "children": [
              "IPY_MODEL_119692b404db442a8dfb3ffb6f8cb7d7",
              "IPY_MODEL_f8963ff93e394b10816b5929330a88ea",
              "IPY_MODEL_54d5c2413d4b49cab8a82260e6f7a149"
            ],
            "layout": "IPY_MODEL_9d4f01f5188642528991c4b019a37ccb"
          }
        },
        "7786d85685c547e99ec5288431cc09f7": {
          "model_module": "@jupyter-widgets/controls",
          "model_name": "HBoxModel",
          "model_module_version": "1.5.0",
          "state": {
            "_dom_classes": [],
            "_model_module": "@jupyter-widgets/controls",
            "_model_module_version": "1.5.0",
            "_model_name": "HBoxModel",
            "_view_count": null,
            "_view_module": "@jupyter-widgets/controls",
            "_view_module_version": "1.5.0",
            "_view_name": "HBoxView",
            "box_style": "",
            "children": [
              "IPY_MODEL_b908b5297bfd42fa89744bf23578253e",
              "IPY_MODEL_46612236503144bab422312622d5806f",
              "IPY_MODEL_148ee8af8366491b9cd73e139ecb5211"
            ],
            "layout": "IPY_MODEL_377f449c94404ae5bb9fb742010b945e"
          }
        },
        "e3faa658c2d4469fac0e2906e7a59440": {
          "model_module": "@jupyter-widgets/base",
          "model_name": "LayoutModel",
          "model_module_version": "1.2.0",
          "state": {
            "_model_module": "@jupyter-widgets/base",
            "_model_module_version": "1.2.0",
            "_model_name": "LayoutModel",
            "_view_count": null,
            "_view_module": "@jupyter-widgets/base",
            "_view_module_version": "1.2.0",
            "_view_name": "LayoutView",
            "align_content": null,
            "align_items": null,
            "align_self": null,
            "border": null,
            "bottom": null,
            "display": null,
            "flex": null,
            "flex_flow": null,
            "grid_area": null,
            "grid_auto_columns": null,
            "grid_auto_flow": null,
            "grid_auto_rows": null,
            "grid_column": null,
            "grid_gap": null,
            "grid_row": null,
            "grid_template_areas": null,
            "grid_template_columns": null,
            "grid_template_rows": null,
            "height": null,
            "justify_content": null,
            "justify_items": null,
            "left": null,
            "margin": null,
            "max_height": null,
            "max_width": null,
            "min_height": null,
            "min_width": null,
            "object_fit": null,
            "object_position": null,
            "order": null,
            "overflow": null,
            "overflow_x": null,
            "overflow_y": null,
            "padding": null,
            "right": null,
            "top": null,
            "visibility": null,
            "width": null
          }
        },
        "119692b404db442a8dfb3ffb6f8cb7d7": {
          "model_module": "@jupyter-widgets/controls",
          "model_name": "IntTextModel",
          "model_module_version": "1.5.0",
          "state": {
            "_dom_classes": [],
            "_model_module": "@jupyter-widgets/controls",
            "_model_module_version": "1.5.0",
            "_model_name": "IntTextModel",
            "_view_count": null,
            "_view_module": "@jupyter-widgets/controls",
            "_view_module_version": "1.5.0",
            "_view_name": "IntTextView",
            "continuous_update": false,
            "description": "Long.",
            "description_tooltip": null,
            "disabled": false,
            "layout": "IPY_MODEL_8dcadacdd68141daac320a7527d029ab",
            "step": 1,
            "style": "IPY_MODEL_b09d4ee8e2584a1ab37833ae934c9bbe",
            "value": 0
          }
        },
        "f8963ff93e394b10816b5929330a88ea": {
          "model_module": "@jupyter-widgets/controls",
          "model_name": "IntTextModel",
          "model_module_version": "1.5.0",
          "state": {
            "_dom_classes": [],
            "_model_module": "@jupyter-widgets/controls",
            "_model_module_version": "1.5.0",
            "_model_name": "IntTextModel",
            "_view_count": null,
            "_view_module": "@jupyter-widgets/controls",
            "_view_module_version": "1.5.0",
            "_view_name": "IntTextView",
            "continuous_update": false,
            "description": "Lat.",
            "description_tooltip": null,
            "disabled": false,
            "layout": "IPY_MODEL_f0359ac2baf14308a6788e65d843b6e2",
            "step": 1,
            "style": "IPY_MODEL_1eb64471955049219cb5001e422dc16d",
            "value": 0
          }
        },
        "54d5c2413d4b49cab8a82260e6f7a149": {
          "model_module": "@jupyter-widgets/controls",
          "model_name": "IntTextModel",
          "model_module_version": "1.5.0",
          "state": {
            "_dom_classes": [],
            "_model_module": "@jupyter-widgets/controls",
            "_model_module_version": "1.5.0",
            "_model_name": "IntTextModel",
            "_view_count": null,
            "_view_module": "@jupyter-widgets/controls",
            "_view_module_version": "1.5.0",
            "_view_name": "IntTextView",
            "continuous_update": false,
            "description": "Zoom by:",
            "description_tooltip": null,
            "disabled": false,
            "layout": "IPY_MODEL_386a9d89c331412abfdc178588ca3f46",
            "step": 1,
            "style": "IPY_MODEL_3e782b51314c4e8a9db2920e637b9765",
            "value": 20
          }
        },
        "9d4f01f5188642528991c4b019a37ccb": {
          "model_module": "@jupyter-widgets/base",
          "model_name": "LayoutModel",
          "model_module_version": "1.2.0",
          "state": {
            "_model_module": "@jupyter-widgets/base",
            "_model_module_version": "1.2.0",
            "_model_name": "LayoutModel",
            "_view_count": null,
            "_view_module": "@jupyter-widgets/base",
            "_view_module_version": "1.2.0",
            "_view_name": "LayoutView",
            "align_content": null,
            "align_items": null,
            "align_self": null,
            "border": null,
            "bottom": null,
            "display": null,
            "flex": null,
            "flex_flow": null,
            "grid_area": null,
            "grid_auto_columns": null,
            "grid_auto_flow": null,
            "grid_auto_rows": null,
            "grid_column": null,
            "grid_gap": null,
            "grid_row": null,
            "grid_template_areas": null,
            "grid_template_columns": null,
            "grid_template_rows": null,
            "height": null,
            "justify_content": null,
            "justify_items": null,
            "left": null,
            "margin": null,
            "max_height": null,
            "max_width": null,
            "min_height": null,
            "min_width": null,
            "object_fit": null,
            "object_position": null,
            "order": null,
            "overflow": null,
            "overflow_x": null,
            "overflow_y": null,
            "padding": null,
            "right": null,
            "top": null,
            "visibility": null,
            "width": null
          }
        },
        "b908b5297bfd42fa89744bf23578253e": {
          "model_module": "@jupyter-widgets/controls",
          "model_name": "ButtonModel",
          "model_module_version": "1.5.0",
          "state": {
            "_dom_classes": [],
            "_model_module": "@jupyter-widgets/controls",
            "_model_module_version": "1.5.0",
            "_model_name": "ButtonModel",
            "_view_count": null,
            "_view_module": "@jupyter-widgets/controls",
            "_view_module_version": "1.5.0",
            "_view_name": "ButtonView",
            "button_style": "",
            "description": "Show map",
            "disabled": false,
            "icon": "",
            "layout": "IPY_MODEL_13dd4c62f58f4e2eb5422703bbae45ad",
            "style": "IPY_MODEL_aa56657dd7a14f33aa76c01c7dee4547",
            "tooltip": ""
          }
        },
        "46612236503144bab422312622d5806f": {
          "model_module": "@jupyter-widgets/controls",
          "model_name": "ButtonModel",
          "model_module_version": "1.5.0",
          "state": {
            "_dom_classes": [],
            "_model_module": "@jupyter-widgets/controls",
            "_model_module_version": "1.5.0",
            "_model_name": "ButtonModel",
            "_view_count": null,
            "_view_module": "@jupyter-widgets/controls",
            "_view_module_version": "1.5.0",
            "_view_name": "ButtonView",
            "button_style": "",
            "description": "Open zoomed",
            "disabled": false,
            "icon": "",
            "layout": "IPY_MODEL_c319a7b93a4b45f698644e8d8dec71b3",
            "style": "IPY_MODEL_e1bbb9c645604f29afdb18a5d327d46b",
            "tooltip": ""
          }
        },
        "148ee8af8366491b9cd73e139ecb5211": {
          "model_module": "@jupyter-widgets/controls",
          "model_name": "ButtonModel",
          "model_module_version": "1.5.0",
          "state": {
            "_dom_classes": [],
            "_model_module": "@jupyter-widgets/controls",
            "_model_module_version": "1.5.0",
            "_model_name": "ButtonModel",
            "_view_count": null,
            "_view_module": "@jupyter-widgets/controls",
            "_view_module_version": "1.5.0",
            "_view_name": "ButtonView",
            "button_style": "",
            "description": "Show graph",
            "disabled": false,
            "icon": "",
            "layout": "IPY_MODEL_dd7b4fa962ff488390cb54688cb252b9",
            "style": "IPY_MODEL_b4bbadee58e1493e9c35c69c34ca6661",
            "tooltip": ""
          }
        },
        "377f449c94404ae5bb9fb742010b945e": {
          "model_module": "@jupyter-widgets/base",
          "model_name": "LayoutModel",
          "model_module_version": "1.2.0",
          "state": {
            "_model_module": "@jupyter-widgets/base",
            "_model_module_version": "1.2.0",
            "_model_name": "LayoutModel",
            "_view_count": null,
            "_view_module": "@jupyter-widgets/base",
            "_view_module_version": "1.2.0",
            "_view_name": "LayoutView",
            "align_content": null,
            "align_items": null,
            "align_self": null,
            "border": null,
            "bottom": null,
            "display": null,
            "flex": null,
            "flex_flow": null,
            "grid_area": null,
            "grid_auto_columns": null,
            "grid_auto_flow": null,
            "grid_auto_rows": null,
            "grid_column": null,
            "grid_gap": null,
            "grid_row": null,
            "grid_template_areas": null,
            "grid_template_columns": null,
            "grid_template_rows": null,
            "height": null,
            "justify_content": null,
            "justify_items": null,
            "left": null,
            "margin": null,
            "max_height": null,
            "max_width": null,
            "min_height": null,
            "min_width": null,
            "object_fit": null,
            "object_position": null,
            "order": null,
            "overflow": null,
            "overflow_x": null,
            "overflow_y": null,
            "padding": null,
            "right": null,
            "top": null,
            "visibility": null,
            "width": null
          }
        },
        "8dcadacdd68141daac320a7527d029ab": {
          "model_module": "@jupyter-widgets/base",
          "model_name": "LayoutModel",
          "model_module_version": "1.2.0",
          "state": {
            "_model_module": "@jupyter-widgets/base",
            "_model_module_version": "1.2.0",
            "_model_name": "LayoutModel",
            "_view_count": null,
            "_view_module": "@jupyter-widgets/base",
            "_view_module_version": "1.2.0",
            "_view_name": "LayoutView",
            "align_content": null,
            "align_items": null,
            "align_self": null,
            "border": null,
            "bottom": null,
            "display": null,
            "flex": null,
            "flex_flow": null,
            "grid_area": null,
            "grid_auto_columns": null,
            "grid_auto_flow": null,
            "grid_auto_rows": null,
            "grid_column": null,
            "grid_gap": null,
            "grid_row": null,
            "grid_template_areas": null,
            "grid_template_columns": null,
            "grid_template_rows": null,
            "height": null,
            "justify_content": null,
            "justify_items": null,
            "left": null,
            "margin": null,
            "max_height": null,
            "max_width": null,
            "min_height": null,
            "min_width": null,
            "object_fit": null,
            "object_position": null,
            "order": null,
            "overflow": null,
            "overflow_x": null,
            "overflow_y": null,
            "padding": null,
            "right": null,
            "top": null,
            "visibility": null,
            "width": null
          }
        },
        "b09d4ee8e2584a1ab37833ae934c9bbe": {
          "model_module": "@jupyter-widgets/controls",
          "model_name": "DescriptionStyleModel",
          "model_module_version": "1.5.0",
          "state": {
            "_model_module": "@jupyter-widgets/controls",
            "_model_module_version": "1.5.0",
            "_model_name": "DescriptionStyleModel",
            "_view_count": null,
            "_view_module": "@jupyter-widgets/base",
            "_view_module_version": "1.2.0",
            "_view_name": "StyleView",
            "description_width": ""
          }
        },
        "f0359ac2baf14308a6788e65d843b6e2": {
          "model_module": "@jupyter-widgets/base",
          "model_name": "LayoutModel",
          "model_module_version": "1.2.0",
          "state": {
            "_model_module": "@jupyter-widgets/base",
            "_model_module_version": "1.2.0",
            "_model_name": "LayoutModel",
            "_view_count": null,
            "_view_module": "@jupyter-widgets/base",
            "_view_module_version": "1.2.0",
            "_view_name": "LayoutView",
            "align_content": null,
            "align_items": null,
            "align_self": null,
            "border": null,
            "bottom": null,
            "display": null,
            "flex": null,
            "flex_flow": null,
            "grid_area": null,
            "grid_auto_columns": null,
            "grid_auto_flow": null,
            "grid_auto_rows": null,
            "grid_column": null,
            "grid_gap": null,
            "grid_row": null,
            "grid_template_areas": null,
            "grid_template_columns": null,
            "grid_template_rows": null,
            "height": null,
            "justify_content": null,
            "justify_items": null,
            "left": null,
            "margin": null,
            "max_height": null,
            "max_width": null,
            "min_height": null,
            "min_width": null,
            "object_fit": null,
            "object_position": null,
            "order": null,
            "overflow": null,
            "overflow_x": null,
            "overflow_y": null,
            "padding": null,
            "right": null,
            "top": null,
            "visibility": null,
            "width": null
          }
        },
        "1eb64471955049219cb5001e422dc16d": {
          "model_module": "@jupyter-widgets/controls",
          "model_name": "DescriptionStyleModel",
          "model_module_version": "1.5.0",
          "state": {
            "_model_module": "@jupyter-widgets/controls",
            "_model_module_version": "1.5.0",
            "_model_name": "DescriptionStyleModel",
            "_view_count": null,
            "_view_module": "@jupyter-widgets/base",
            "_view_module_version": "1.2.0",
            "_view_name": "StyleView",
            "description_width": ""
          }
        },
        "386a9d89c331412abfdc178588ca3f46": {
          "model_module": "@jupyter-widgets/base",
          "model_name": "LayoutModel",
          "model_module_version": "1.2.0",
          "state": {
            "_model_module": "@jupyter-widgets/base",
            "_model_module_version": "1.2.0",
            "_model_name": "LayoutModel",
            "_view_count": null,
            "_view_module": "@jupyter-widgets/base",
            "_view_module_version": "1.2.0",
            "_view_name": "LayoutView",
            "align_content": null,
            "align_items": null,
            "align_self": null,
            "border": null,
            "bottom": null,
            "display": null,
            "flex": null,
            "flex_flow": null,
            "grid_area": null,
            "grid_auto_columns": null,
            "grid_auto_flow": null,
            "grid_auto_rows": null,
            "grid_column": null,
            "grid_gap": null,
            "grid_row": null,
            "grid_template_areas": null,
            "grid_template_columns": null,
            "grid_template_rows": null,
            "height": null,
            "justify_content": null,
            "justify_items": null,
            "left": null,
            "margin": null,
            "max_height": null,
            "max_width": null,
            "min_height": null,
            "min_width": null,
            "object_fit": null,
            "object_position": null,
            "order": null,
            "overflow": null,
            "overflow_x": null,
            "overflow_y": null,
            "padding": null,
            "right": null,
            "top": null,
            "visibility": null,
            "width": null
          }
        },
        "3e782b51314c4e8a9db2920e637b9765": {
          "model_module": "@jupyter-widgets/controls",
          "model_name": "DescriptionStyleModel",
          "model_module_version": "1.5.0",
          "state": {
            "_model_module": "@jupyter-widgets/controls",
            "_model_module_version": "1.5.0",
            "_model_name": "DescriptionStyleModel",
            "_view_count": null,
            "_view_module": "@jupyter-widgets/base",
            "_view_module_version": "1.2.0",
            "_view_name": "StyleView",
            "description_width": ""
          }
        },
        "13dd4c62f58f4e2eb5422703bbae45ad": {
          "model_module": "@jupyter-widgets/base",
          "model_name": "LayoutModel",
          "model_module_version": "1.2.0",
          "state": {
            "_model_module": "@jupyter-widgets/base",
            "_model_module_version": "1.2.0",
            "_model_name": "LayoutModel",
            "_view_count": null,
            "_view_module": "@jupyter-widgets/base",
            "_view_module_version": "1.2.0",
            "_view_name": "LayoutView",
            "align_content": null,
            "align_items": null,
            "align_self": null,
            "border": null,
            "bottom": null,
            "display": null,
            "flex": null,
            "flex_flow": null,
            "grid_area": null,
            "grid_auto_columns": null,
            "grid_auto_flow": null,
            "grid_auto_rows": null,
            "grid_column": null,
            "grid_gap": null,
            "grid_row": null,
            "grid_template_areas": null,
            "grid_template_columns": null,
            "grid_template_rows": null,
            "height": null,
            "justify_content": null,
            "justify_items": null,
            "left": null,
            "margin": null,
            "max_height": null,
            "max_width": null,
            "min_height": null,
            "min_width": null,
            "object_fit": null,
            "object_position": null,
            "order": null,
            "overflow": null,
            "overflow_x": null,
            "overflow_y": null,
            "padding": null,
            "right": null,
            "top": null,
            "visibility": null,
            "width": null
          }
        },
        "aa56657dd7a14f33aa76c01c7dee4547": {
          "model_module": "@jupyter-widgets/controls",
          "model_name": "ButtonStyleModel",
          "model_module_version": "1.5.0",
          "state": {
            "_model_module": "@jupyter-widgets/controls",
            "_model_module_version": "1.5.0",
            "_model_name": "ButtonStyleModel",
            "_view_count": null,
            "_view_module": "@jupyter-widgets/base",
            "_view_module_version": "1.2.0",
            "_view_name": "StyleView",
            "button_color": null,
            "font_weight": ""
          }
        },
        "c319a7b93a4b45f698644e8d8dec71b3": {
          "model_module": "@jupyter-widgets/base",
          "model_name": "LayoutModel",
          "model_module_version": "1.2.0",
          "state": {
            "_model_module": "@jupyter-widgets/base",
            "_model_module_version": "1.2.0",
            "_model_name": "LayoutModel",
            "_view_count": null,
            "_view_module": "@jupyter-widgets/base",
            "_view_module_version": "1.2.0",
            "_view_name": "LayoutView",
            "align_content": null,
            "align_items": null,
            "align_self": null,
            "border": null,
            "bottom": null,
            "display": null,
            "flex": null,
            "flex_flow": null,
            "grid_area": null,
            "grid_auto_columns": null,
            "grid_auto_flow": null,
            "grid_auto_rows": null,
            "grid_column": null,
            "grid_gap": null,
            "grid_row": null,
            "grid_template_areas": null,
            "grid_template_columns": null,
            "grid_template_rows": null,
            "height": null,
            "justify_content": null,
            "justify_items": null,
            "left": null,
            "margin": null,
            "max_height": null,
            "max_width": null,
            "min_height": null,
            "min_width": null,
            "object_fit": null,
            "object_position": null,
            "order": null,
            "overflow": null,
            "overflow_x": null,
            "overflow_y": null,
            "padding": null,
            "right": null,
            "top": null,
            "visibility": null,
            "width": null
          }
        },
        "e1bbb9c645604f29afdb18a5d327d46b": {
          "model_module": "@jupyter-widgets/controls",
          "model_name": "ButtonStyleModel",
          "model_module_version": "1.5.0",
          "state": {
            "_model_module": "@jupyter-widgets/controls",
            "_model_module_version": "1.5.0",
            "_model_name": "ButtonStyleModel",
            "_view_count": null,
            "_view_module": "@jupyter-widgets/base",
            "_view_module_version": "1.2.0",
            "_view_name": "StyleView",
            "button_color": null,
            "font_weight": ""
          }
        },
        "dd7b4fa962ff488390cb54688cb252b9": {
          "model_module": "@jupyter-widgets/base",
          "model_name": "LayoutModel",
          "model_module_version": "1.2.0",
          "state": {
            "_model_module": "@jupyter-widgets/base",
            "_model_module_version": "1.2.0",
            "_model_name": "LayoutModel",
            "_view_count": null,
            "_view_module": "@jupyter-widgets/base",
            "_view_module_version": "1.2.0",
            "_view_name": "LayoutView",
            "align_content": null,
            "align_items": null,
            "align_self": null,
            "border": null,
            "bottom": null,
            "display": null,
            "flex": null,
            "flex_flow": null,
            "grid_area": null,
            "grid_auto_columns": null,
            "grid_auto_flow": null,
            "grid_auto_rows": null,
            "grid_column": null,
            "grid_gap": null,
            "grid_row": null,
            "grid_template_areas": null,
            "grid_template_columns": null,
            "grid_template_rows": null,
            "height": null,
            "justify_content": null,
            "justify_items": null,
            "left": null,
            "margin": null,
            "max_height": null,
            "max_width": null,
            "min_height": null,
            "min_width": null,
            "object_fit": null,
            "object_position": null,
            "order": null,
            "overflow": null,
            "overflow_x": null,
            "overflow_y": null,
            "padding": null,
            "right": null,
            "top": null,
            "visibility": null,
            "width": null
          }
        },
        "b4bbadee58e1493e9c35c69c34ca6661": {
          "model_module": "@jupyter-widgets/controls",
          "model_name": "ButtonStyleModel",
          "model_module_version": "1.5.0",
          "state": {
            "_model_module": "@jupyter-widgets/controls",
            "_model_module_version": "1.5.0",
            "_model_name": "ButtonStyleModel",
            "_view_count": null,
            "_view_module": "@jupyter-widgets/base",
            "_view_module_version": "1.2.0",
            "_view_name": "StyleView",
            "button_color": null,
            "font_weight": ""
          }
        },
        "1a0cdbd0dbff48aaba42549a1cb4711b": {
          "model_module": "@jupyter-widgets/base",
          "model_name": "LayoutModel",
          "model_module_version": "1.2.0",
          "state": {
            "_model_module": "@jupyter-widgets/base",
            "_model_module_version": "1.2.0",
            "_model_name": "LayoutModel",
            "_view_count": null,
            "_view_module": "@jupyter-widgets/base",
            "_view_module_version": "1.2.0",
            "_view_name": "LayoutView",
            "align_content": null,
            "align_items": null,
            "align_self": null,
            "border": "1px solid black",
            "bottom": null,
            "display": null,
            "flex": null,
            "flex_flow": null,
            "grid_area": null,
            "grid_auto_columns": null,
            "grid_auto_flow": null,
            "grid_auto_rows": null,
            "grid_column": null,
            "grid_gap": null,
            "grid_row": null,
            "grid_template_areas": null,
            "grid_template_columns": null,
            "grid_template_rows": null,
            "height": null,
            "justify_content": null,
            "justify_items": null,
            "left": null,
            "margin": null,
            "max_height": null,
            "max_width": null,
            "min_height": null,
            "min_width": null,
            "object_fit": null,
            "object_position": null,
            "order": null,
            "overflow": null,
            "overflow_x": null,
            "overflow_y": null,
            "padding": "0 4px 15px 0",
            "right": null,
            "top": null,
            "visibility": null,
            "width": null
          }
        },
        "640986bd0c444d42a6c1e6015e372d95": {
          "model_module": "@jupyter-widgets/base",
          "model_name": "LayoutModel",
          "model_module_version": "1.2.0",
          "state": {
            "_model_module": "@jupyter-widgets/base",
            "_model_module_version": "1.2.0",
            "_model_name": "LayoutModel",
            "_view_count": null,
            "_view_module": "@jupyter-widgets/base",
            "_view_module_version": "1.2.0",
            "_view_name": "LayoutView",
            "align_content": null,
            "align_items": null,
            "align_self": null,
            "border": "1px solid black",
            "bottom": null,
            "display": null,
            "flex": null,
            "flex_flow": null,
            "grid_area": null,
            "grid_auto_columns": null,
            "grid_auto_flow": null,
            "grid_auto_rows": null,
            "grid_column": null,
            "grid_gap": null,
            "grid_row": null,
            "grid_template_areas": null,
            "grid_template_columns": null,
            "grid_template_rows": null,
            "height": null,
            "justify_content": null,
            "justify_items": null,
            "left": null,
            "margin": null,
            "max_height": null,
            "max_width": null,
            "min_height": null,
            "min_width": null,
            "object_fit": null,
            "object_position": null,
            "order": null,
            "overflow": null,
            "overflow_x": null,
            "overflow_y": null,
            "padding": "0 4px 15px 4px",
            "right": null,
            "top": null,
            "visibility": null,
            "width": null
          }
        },
        "0430f740c2ef421ba363a465f4da6477": {
          "model_module": "@jupyter-widgets/base",
          "model_name": "LayoutModel",
          "model_module_version": "1.2.0",
          "state": {
            "_model_module": "@jupyter-widgets/base",
            "_model_module_version": "1.2.0",
            "_model_name": "LayoutModel",
            "_view_count": null,
            "_view_module": "@jupyter-widgets/base",
            "_view_module_version": "1.2.0",
            "_view_name": "LayoutView",
            "align_content": null,
            "align_items": null,
            "align_self": null,
            "border": "1px solid black",
            "bottom": null,
            "display": null,
            "flex": null,
            "flex_flow": null,
            "grid_area": null,
            "grid_auto_columns": null,
            "grid_auto_flow": null,
            "grid_auto_rows": null,
            "grid_column": null,
            "grid_gap": null,
            "grid_row": null,
            "grid_template_areas": null,
            "grid_template_columns": null,
            "grid_template_rows": null,
            "height": null,
            "justify_content": null,
            "justify_items": null,
            "left": null,
            "margin": null,
            "max_height": null,
            "max_width": null,
            "min_height": null,
            "min_width": null,
            "object_fit": null,
            "object_position": null,
            "order": null,
            "overflow": null,
            "overflow_x": null,
            "overflow_y": null,
            "padding": "0 0 15px 4px",
            "right": null,
            "top": null,
            "visibility": null,
            "width": null
          }
        }
      }
    }
  },
  "cells": [
    {
      "cell_type": "markdown",
      "metadata": {
        "id": "view-in-github",
        "colab_type": "text"
      },
      "source": [
        "<a href=\"https://colab.research.google.com/github/ayushanand18/pyobis/blob/bio-mapping/notebooks/biodiversity_mapping.ipynb\" target=\"_parent\"><img src=\"https://colab.research.google.com/assets/colab-badge.svg\" alt=\"Open In Colab\"/></a>"
      ]
    },
    {
      "cell_type": "markdown",
      "source": [
        "## Biodiversity mapping\n",
        "\n",
        "Search for the order Scleractinia and extract all records. We will use `pyobis` to fetch data and then visualize."
      ],
      "metadata": {
        "id": "W7oiUBur5zyK"
      }
    },
    {
      "cell_type": "markdown",
      "source": [
        "Searching the order [Scleractinia](https://www.marinespecies.org/aphia.php?p=taxdetails&id=1363) and drill down to all species.\n",
        "\n",
        "AphiaID 1363 (urn:lsid:marinespecies.org:taxname:1363)"
      ],
      "metadata": {
        "id": "e-C3ZweHpG9D"
      }
    },
    {
      "cell_type": "markdown",
      "source": [
        "## installing pyobis"
      ],
      "metadata": {
        "id": "f7OHskpx5-R6"
      }
    },
    {
      "cell_type": "code",
      "execution_count": 1,
      "metadata": {
        "id": "ZFTNtZ_55whv"
      },
      "outputs": [],
      "source": [
        "try:\n",
        "  import pyobis\n",
        "except:\n",
        "  %pip -q install pyobis\n",
        "  import pyobis"
      ]
    },
    {
      "cell_type": "markdown",
      "source": [
        "## importing modules"
      ],
      "metadata": {
        "id": "1xuzuA--pG27"
      }
    },
    {
      "cell_type": "code",
      "source": [
        "from matplotlib import pyplot as plt\n",
        "import pandas as pd\n",
        "import numpy as np\n",
        "import seaborn as sns\n",
        "%matplotlib inline"
      ],
      "metadata": {
        "id": "5DdYlj-E6CvC"
      },
      "execution_count": 2,
      "outputs": []
    },
    {
      "cell_type": "code",
      "source": [
        "try:\n",
        "  import geoplot\n",
        "except:\n",
        "  %pip -q install geoplot\n",
        "  import geoplot"
      ],
      "metadata": {
        "id": "LrDVvIlZz4O4"
      },
      "execution_count": 3,
      "outputs": []
    },
    {
      "cell_type": "code",
      "source": [
        "try:\n",
        "  import geopandas as gpd\n",
        "except:\n",
        "  %pip -q install geopandas\n",
        "  import geopandas as gpd"
      ],
      "metadata": {
        "id": "9L2FdrEPYn2R"
      },
      "execution_count": 4,
      "outputs": []
    },
    {
      "cell_type": "code",
      "source": [
        "from pyobis.occurrences import OccQuery"
      ],
      "metadata": {
        "id": "rdh9fKc46NfQ"
      },
      "execution_count": 5,
      "outputs": []
    },
    {
      "cell_type": "markdown",
      "source": [
        "**Known Bug**: Need to reinstall shapely on Google Colab since it causes crash. And then restart once."
      ],
      "metadata": {
        "id": "3NLXlX6z4Dom"
      }
    },
    {
      "cell_type": "code",
      "source": [
        "!pip uninstall shapely\n",
        "!pip install shapely --no-binary shapely"
      ],
      "metadata": {
        "colab": {
          "base_uri": "https://localhost:8080/",
          "height": 575
        },
        "id": "DdvHJk6e3sOq",
        "outputId": "3b142706-5694-4db4-c395-37efd6a00cb3"
      },
      "execution_count": 6,
      "outputs": [
        {
          "output_type": "stream",
          "name": "stdout",
          "text": [
            "Found existing installation: Shapely 1.8.4\n",
            "Uninstalling Shapely-1.8.4:\n",
            "  Would remove:\n",
            "    /usr/local/lib/python3.7/dist-packages/Shapely-1.8.4.dist-info/*\n",
            "    /usr/local/lib/python3.7/dist-packages/Shapely.libs/libgeos-35e678a0.so.3.10.3\n",
            "    /usr/local/lib/python3.7/dist-packages/Shapely.libs/libgeos_c-c8ec7514.so.1.16.1\n",
            "    /usr/local/lib/python3.7/dist-packages/shapely/*\n",
            "Proceed (y/n)? y\n",
            "  Successfully uninstalled Shapely-1.8.4\n",
            "Looking in indexes: https://pypi.org/simple, https://us-python.pkg.dev/colab-wheels/public/simple/\n",
            "Collecting shapely\n",
            "  Downloading Shapely-1.8.4.tar.gz (199 kB)\n",
            "\u001b[K     |████████████████████████████████| 199 kB 3.3 MB/s \n",
            "\u001b[?25h  Installing build dependencies ... \u001b[?25l\u001b[?25hdone\n",
            "\u001b[33m  WARNING: Missing build requirements in pyproject.toml for shapely from https://files.pythonhosted.org/packages/b5/9a/625d4fc91ef85873801a16700840786117df4c016162a4532c998a7fe6bc/Shapely-1.8.4.tar.gz#sha256=a195e51caafa218291f2cbaa3fef69fd3353c93ec4b65b2a4722c4cf40c3198c.\u001b[0m\n",
            "\u001b[33m  WARNING: The project does not specify a build backend, and pip cannot fall back to setuptools without 'wheel'.\u001b[0m\n",
            "  Getting requirements to build wheel ... \u001b[?25l\u001b[?25hdone\n",
            "  Installing backend dependencies ... \u001b[?25l\u001b[?25hdone\n",
            "    Preparing wheel metadata ... \u001b[?25l\u001b[?25hdone\n",
            "Building wheels for collected packages: shapely\n",
            "  Building wheel for shapely (PEP 517) ... \u001b[?25l\u001b[?25hdone\n",
            "  Created wheel for shapely: filename=Shapely-1.8.4-cp37-cp37m-linux_x86_64.whl size=669423 sha256=5cd2a878c5a9a011d0ec52f57602d5642db06755fa2c30352921c0b2cd87297a\n",
            "  Stored in directory: /root/.cache/pip/wheels/0b/f0/55/139a0ab07fbf91378f9b7062842aee4d4bb3566a1fc30ac7a4\n",
            "Successfully built shapely\n",
            "Installing collected packages: shapely\n",
            "Successfully installed shapely-1.8.4\n"
          ]
        },
        {
          "output_type": "display_data",
          "data": {
            "application/vnd.colab-display-data+json": {
              "pip_warning": {
                "packages": [
                  "shapely"
                ]
              }
            }
          },
          "metadata": {}
        }
      ]
    },
    {
      "cell_type": "markdown",
      "source": [
        "### importing other modules\n",
        "The below modules will be used when querying through the dynamic map (utilising widgets)."
      ],
      "metadata": {
        "id": "89uXfTSm6Au_"
      }
    },
    {
      "cell_type": "code",
      "source": [
        "from ipywidgets import interact, interactive, fixed, interact_manual\n",
        "import ipywidgets as widgets"
      ],
      "metadata": {
        "id": "5WK-0HLg-ljK"
      },
      "execution_count": null,
      "outputs": []
    },
    {
      "cell_type": "markdown",
      "source": [
        "## grabbing the data"
      ],
      "metadata": {
        "id": "rCVnFeCy6VYY"
      }
    },
    {
      "cell_type": "markdown",
      "source": [
        "Since our analysis will be highly dependent on the depth parameter, we will choose only non NaN values."
      ],
      "metadata": {
        "id": "iklzj4df4sqH"
      }
    },
    {
      "cell_type": "code",
      "source": [
        "occ = OccQuery()"
      ],
      "metadata": {
        "id": "YKT--reaqNx8"
      },
      "execution_count": 6,
      "outputs": []
    },
    {
      "cell_type": "markdown",
      "source": [
        "Let us also define the specific range of depth we are interested in."
      ],
      "metadata": {
        "id": "_115M3yGqt9H"
      }
    },
    {
      "cell_type": "code",
      "source": [
        "STARTDEPTH = 0\n",
        "ENDDEPTH = 30"
      ],
      "metadata": {
        "id": "DDedmWueqyqM"
      },
      "execution_count": 7,
      "outputs": []
    },
    {
      "cell_type": "code",
      "source": [
        "# it returns a pandas DataFrame object\n",
        "df = occ.search(taxonid=1363, startdepth=STARTDEPTH, enddepth=ENDDEPTH)"
      ],
      "metadata": {
        "colab": {
          "base_uri": "https://localhost:8080/"
        },
        "id": "Qr3PzdxV6XJw",
        "outputId": "33b4d6dd-c5c2-4a9c-a2bb-8fd016caa0bd"
      },
      "execution_count": 8,
      "outputs": [
        {
          "output_type": "stream",
          "name": "stdout",
          "text": [
            "\n",
            "Fetched 526647 records.\n"
          ]
        }
      ]
    },
    {
      "cell_type": "code",
      "source": [
        "# let's see what we got\n",
        "df.head()"
      ],
      "metadata": {
        "colab": {
          "base_uri": "https://localhost:8080/",
          "height": 351
        },
        "id": "1ubH91yUrGqC",
        "outputId": "cba83150-1ebc-4137-e918-220318ad416c"
      },
      "execution_count": null,
      "outputs": [
        {
          "output_type": "execute_result",
          "data": {
            "text/plain": [
              "  brackish  date_year                           scientificNameID  year  \\\n",
              "0    False     2009.0  urn:lsid:marinespecies.org:taxname:206938  2009   \n",
              "1    False     2008.0  urn:lsid:marinespecies.org:taxname:207470  2008   \n",
              "2    False     2000.0  urn:lsid:marinespecies.org:taxname:291119  2000   \n",
              "3    False     2009.0  urn:lsid:marinespecies.org:taxname:291119  2009   \n",
              "4    False     2010.0  urn:lsid:marinespecies.org:taxname:207225  2010   \n",
              "\n",
              "              scientificName coordinateUncertaintyInMeters absence dropped  \\\n",
              "0                Pocillopora                         100.0   False   False   \n",
              "1        Leptastrea purpurea                         100.0   False   False   \n",
              "2  Stephanocoenia intersepta                           NaN   False   False   \n",
              "3  Stephanocoenia intersepta                           NaN   False   False   \n",
              "4             Porites lobata                         100.0   False   False   \n",
              "\n",
              "    genusid aphiaID  ...  forma formaid materialSampleID taxonConceptID  \\\n",
              "0  206938.0  206938  ...    NaN     NaN              NaN            NaN   \n",
              "1  204278.0  207470  ...    NaN     NaN              NaN            NaN   \n",
              "2  267860.0  291119  ...    NaN     NaN              NaN            NaN   \n",
              "3  267860.0  291119  ...    NaN     NaN              NaN            NaN   \n",
              "4  206485.0  207225  ...    NaN     NaN              NaN            NaN   \n",
              "\n",
              "   infraspecificEpithet recordedByID  variety varietyid  sex  \\\n",
              "0                   NaN          NaN      NaN       NaN  NaN   \n",
              "1                   NaN          NaN      NaN       NaN  NaN   \n",
              "2                   NaN          NaN      NaN       NaN  NaN   \n",
              "3                   NaN          NaN      NaN       NaN  NaN   \n",
              "4                   NaN          NaN      NaN       NaN  NaN   \n",
              "\n",
              "  establishmentMeans  \n",
              "0                NaN  \n",
              "1                NaN  \n",
              "2                NaN  \n",
              "3                NaN  \n",
              "4                NaN  \n",
              "\n",
              "[5 rows x 173 columns]"
            ],
            "text/html": [
              "\n",
              "  <div id=\"df-2a65356b-7c72-4a5d-92a3-47252dab8882\">\n",
              "    <div class=\"colab-df-container\">\n",
              "      <div>\n",
              "<style scoped>\n",
              "    .dataframe tbody tr th:only-of-type {\n",
              "        vertical-align: middle;\n",
              "    }\n",
              "\n",
              "    .dataframe tbody tr th {\n",
              "        vertical-align: top;\n",
              "    }\n",
              "\n",
              "    .dataframe thead th {\n",
              "        text-align: right;\n",
              "    }\n",
              "</style>\n",
              "<table border=\"1\" class=\"dataframe\">\n",
              "  <thead>\n",
              "    <tr style=\"text-align: right;\">\n",
              "      <th></th>\n",
              "      <th>brackish</th>\n",
              "      <th>date_year</th>\n",
              "      <th>scientificNameID</th>\n",
              "      <th>year</th>\n",
              "      <th>scientificName</th>\n",
              "      <th>coordinateUncertaintyInMeters</th>\n",
              "      <th>absence</th>\n",
              "      <th>dropped</th>\n",
              "      <th>genusid</th>\n",
              "      <th>aphiaID</th>\n",
              "      <th>...</th>\n",
              "      <th>forma</th>\n",
              "      <th>formaid</th>\n",
              "      <th>materialSampleID</th>\n",
              "      <th>taxonConceptID</th>\n",
              "      <th>infraspecificEpithet</th>\n",
              "      <th>recordedByID</th>\n",
              "      <th>variety</th>\n",
              "      <th>varietyid</th>\n",
              "      <th>sex</th>\n",
              "      <th>establishmentMeans</th>\n",
              "    </tr>\n",
              "  </thead>\n",
              "  <tbody>\n",
              "    <tr>\n",
              "      <th>0</th>\n",
              "      <td>False</td>\n",
              "      <td>2009.0</td>\n",
              "      <td>urn:lsid:marinespecies.org:taxname:206938</td>\n",
              "      <td>2009</td>\n",
              "      <td>Pocillopora</td>\n",
              "      <td>100.0</td>\n",
              "      <td>False</td>\n",
              "      <td>False</td>\n",
              "      <td>206938.0</td>\n",
              "      <td>206938</td>\n",
              "      <td>...</td>\n",
              "      <td>NaN</td>\n",
              "      <td>NaN</td>\n",
              "      <td>NaN</td>\n",
              "      <td>NaN</td>\n",
              "      <td>NaN</td>\n",
              "      <td>NaN</td>\n",
              "      <td>NaN</td>\n",
              "      <td>NaN</td>\n",
              "      <td>NaN</td>\n",
              "      <td>NaN</td>\n",
              "    </tr>\n",
              "    <tr>\n",
              "      <th>1</th>\n",
              "      <td>False</td>\n",
              "      <td>2008.0</td>\n",
              "      <td>urn:lsid:marinespecies.org:taxname:207470</td>\n",
              "      <td>2008</td>\n",
              "      <td>Leptastrea purpurea</td>\n",
              "      <td>100.0</td>\n",
              "      <td>False</td>\n",
              "      <td>False</td>\n",
              "      <td>204278.0</td>\n",
              "      <td>207470</td>\n",
              "      <td>...</td>\n",
              "      <td>NaN</td>\n",
              "      <td>NaN</td>\n",
              "      <td>NaN</td>\n",
              "      <td>NaN</td>\n",
              "      <td>NaN</td>\n",
              "      <td>NaN</td>\n",
              "      <td>NaN</td>\n",
              "      <td>NaN</td>\n",
              "      <td>NaN</td>\n",
              "      <td>NaN</td>\n",
              "    </tr>\n",
              "    <tr>\n",
              "      <th>2</th>\n",
              "      <td>False</td>\n",
              "      <td>2000.0</td>\n",
              "      <td>urn:lsid:marinespecies.org:taxname:291119</td>\n",
              "      <td>2000</td>\n",
              "      <td>Stephanocoenia intersepta</td>\n",
              "      <td>NaN</td>\n",
              "      <td>False</td>\n",
              "      <td>False</td>\n",
              "      <td>267860.0</td>\n",
              "      <td>291119</td>\n",
              "      <td>...</td>\n",
              "      <td>NaN</td>\n",
              "      <td>NaN</td>\n",
              "      <td>NaN</td>\n",
              "      <td>NaN</td>\n",
              "      <td>NaN</td>\n",
              "      <td>NaN</td>\n",
              "      <td>NaN</td>\n",
              "      <td>NaN</td>\n",
              "      <td>NaN</td>\n",
              "      <td>NaN</td>\n",
              "    </tr>\n",
              "    <tr>\n",
              "      <th>3</th>\n",
              "      <td>False</td>\n",
              "      <td>2009.0</td>\n",
              "      <td>urn:lsid:marinespecies.org:taxname:291119</td>\n",
              "      <td>2009</td>\n",
              "      <td>Stephanocoenia intersepta</td>\n",
              "      <td>NaN</td>\n",
              "      <td>False</td>\n",
              "      <td>False</td>\n",
              "      <td>267860.0</td>\n",
              "      <td>291119</td>\n",
              "      <td>...</td>\n",
              "      <td>NaN</td>\n",
              "      <td>NaN</td>\n",
              "      <td>NaN</td>\n",
              "      <td>NaN</td>\n",
              "      <td>NaN</td>\n",
              "      <td>NaN</td>\n",
              "      <td>NaN</td>\n",
              "      <td>NaN</td>\n",
              "      <td>NaN</td>\n",
              "      <td>NaN</td>\n",
              "    </tr>\n",
              "    <tr>\n",
              "      <th>4</th>\n",
              "      <td>False</td>\n",
              "      <td>2010.0</td>\n",
              "      <td>urn:lsid:marinespecies.org:taxname:207225</td>\n",
              "      <td>2010</td>\n",
              "      <td>Porites lobata</td>\n",
              "      <td>100.0</td>\n",
              "      <td>False</td>\n",
              "      <td>False</td>\n",
              "      <td>206485.0</td>\n",
              "      <td>207225</td>\n",
              "      <td>...</td>\n",
              "      <td>NaN</td>\n",
              "      <td>NaN</td>\n",
              "      <td>NaN</td>\n",
              "      <td>NaN</td>\n",
              "      <td>NaN</td>\n",
              "      <td>NaN</td>\n",
              "      <td>NaN</td>\n",
              "      <td>NaN</td>\n",
              "      <td>NaN</td>\n",
              "      <td>NaN</td>\n",
              "    </tr>\n",
              "  </tbody>\n",
              "</table>\n",
              "<p>5 rows × 173 columns</p>\n",
              "</div>\n",
              "      <button class=\"colab-df-convert\" onclick=\"convertToInteractive('df-2a65356b-7c72-4a5d-92a3-47252dab8882')\"\n",
              "              title=\"Convert this dataframe to an interactive table.\"\n",
              "              style=\"display:none;\">\n",
              "        \n",
              "  <svg xmlns=\"http://www.w3.org/2000/svg\" height=\"24px\"viewBox=\"0 0 24 24\"\n",
              "       width=\"24px\">\n",
              "    <path d=\"M0 0h24v24H0V0z\" fill=\"none\"/>\n",
              "    <path d=\"M18.56 5.44l.94 2.06.94-2.06 2.06-.94-2.06-.94-.94-2.06-.94 2.06-2.06.94zm-11 1L8.5 8.5l.94-2.06 2.06-.94-2.06-.94L8.5 2.5l-.94 2.06-2.06.94zm10 10l.94 2.06.94-2.06 2.06-.94-2.06-.94-.94-2.06-.94 2.06-2.06.94z\"/><path d=\"M17.41 7.96l-1.37-1.37c-.4-.4-.92-.59-1.43-.59-.52 0-1.04.2-1.43.59L10.3 9.45l-7.72 7.72c-.78.78-.78 2.05 0 2.83L4 21.41c.39.39.9.59 1.41.59.51 0 1.02-.2 1.41-.59l7.78-7.78 2.81-2.81c.8-.78.8-2.07 0-2.86zM5.41 20L4 18.59l7.72-7.72 1.47 1.35L5.41 20z\"/>\n",
              "  </svg>\n",
              "      </button>\n",
              "      \n",
              "  <style>\n",
              "    .colab-df-container {\n",
              "      display:flex;\n",
              "      flex-wrap:wrap;\n",
              "      gap: 12px;\n",
              "    }\n",
              "\n",
              "    .colab-df-convert {\n",
              "      background-color: #E8F0FE;\n",
              "      border: none;\n",
              "      border-radius: 50%;\n",
              "      cursor: pointer;\n",
              "      display: none;\n",
              "      fill: #1967D2;\n",
              "      height: 32px;\n",
              "      padding: 0 0 0 0;\n",
              "      width: 32px;\n",
              "    }\n",
              "\n",
              "    .colab-df-convert:hover {\n",
              "      background-color: #E2EBFA;\n",
              "      box-shadow: 0px 1px 2px rgba(60, 64, 67, 0.3), 0px 1px 3px 1px rgba(60, 64, 67, 0.15);\n",
              "      fill: #174EA6;\n",
              "    }\n",
              "\n",
              "    [theme=dark] .colab-df-convert {\n",
              "      background-color: #3B4455;\n",
              "      fill: #D2E3FC;\n",
              "    }\n",
              "\n",
              "    [theme=dark] .colab-df-convert:hover {\n",
              "      background-color: #434B5C;\n",
              "      box-shadow: 0px 1px 3px 1px rgba(0, 0, 0, 0.15);\n",
              "      filter: drop-shadow(0px 1px 2px rgba(0, 0, 0, 0.3));\n",
              "      fill: #FFFFFF;\n",
              "    }\n",
              "  </style>\n",
              "\n",
              "      <script>\n",
              "        const buttonEl =\n",
              "          document.querySelector('#df-2a65356b-7c72-4a5d-92a3-47252dab8882 button.colab-df-convert');\n",
              "        buttonEl.style.display =\n",
              "          google.colab.kernel.accessAllowed ? 'block' : 'none';\n",
              "\n",
              "        async function convertToInteractive(key) {\n",
              "          const element = document.querySelector('#df-2a65356b-7c72-4a5d-92a3-47252dab8882');\n",
              "          const dataTable =\n",
              "            await google.colab.kernel.invokeFunction('convertToInteractive',\n",
              "                                                     [key], {});\n",
              "          if (!dataTable) return;\n",
              "\n",
              "          const docLinkHtml = 'Like what you see? Visit the ' +\n",
              "            '<a target=\"_blank\" href=https://colab.research.google.com/notebooks/data_table.ipynb>data table notebook</a>'\n",
              "            + ' to learn more about interactive tables.';\n",
              "          element.innerHTML = '';\n",
              "          dataTable['output_type'] = 'display_data';\n",
              "          await google.colab.output.renderOutput(dataTable, element);\n",
              "          const docLink = document.createElement('div');\n",
              "          docLink.innerHTML = docLinkHtml;\n",
              "          element.appendChild(docLink);\n",
              "        }\n",
              "      </script>\n",
              "    </div>\n",
              "  </div>\n",
              "  "
            ]
          },
          "metadata": {},
          "execution_count": 9
        }
      ]
    },
    {
      "cell_type": "markdown",
      "source": [
        "## visualization\n",
        "\n",
        "### 1. year-wise distribution\n",
        "Let us see the year-wise distribution of records."
      ],
      "metadata": {
        "id": "94lFSDeOsWUx"
      }
    },
    {
      "cell_type": "code",
      "source": [
        "# setting up seaborn\n",
        "sns.set(style=\"darkgrid\", rc={'figure.figsize':(25,8)})\n",
        "# getting the basemap\n",
        "countries = gpd.read_file(gpd.datasets.get_path(\"naturalearth_lowres\"))"
      ],
      "metadata": {
        "id": "_HHgWdWSx5DA"
      },
      "execution_count": 14,
      "outputs": []
    },
    {
      "cell_type": "code",
      "source": [
        "ax = df.groupby(\"year\").date_mid.count().plot.bar(figsize = (20,8))"
      ],
      "metadata": {
        "colab": {
          "base_uri": "https://localhost:8080/",
          "height": 520
        },
        "id": "VWz23cYWt4ds",
        "outputId": "5334c0cf-0b67-486a-ab99-29dabcf6dd68"
      },
      "execution_count": null,
      "outputs": [
        {
          "output_type": "display_data",
          "data": {
            "text/plain": [
              "<Figure size 1440x576 with 1 Axes>"
            ],
            "image/png": "[encoded data removed]"
          },
          "metadata": {}
        }
      ]
    },
    {
      "cell_type": "markdown",
      "source": [
        "We can see from the plot that 2010 has got the highest number of records. Although there is a lot of variation yet the number of records has risen significatly after 1995 in comparison to the earlier years where the data is almost negligible."
      ],
      "metadata": {
        "id": "kzZgN4mHQmrc"
      }
    },
    {
      "cell_type": "markdown",
      "source": [
        "### based on point density"
      ],
      "metadata": {
        "id": "K5DxuBtysbZp"
      }
    },
    {
      "cell_type": "code",
      "source": [
        "# convert to a GeoDataFrame\n",
        "gdf = gpd.GeoDataFrame(\n",
        "    df, geometry=gpd.points_from_xy(df.decimalLongitude, df.decimalLatitude),\n",
        "    crs=\"EPSG:4326\")"
      ],
      "metadata": {
        "id": "LNHRWtDv1mbI"
      },
      "execution_count": 9,
      "outputs": []
    },
    {
      "cell_type": "code",
      "source": [
        "from matplotlib import rcParams\n",
        "rcParams[\"figure.figsize\"] = (15,10)"
      ],
      "metadata": {
        "id": "Wt7HmQXE_c4-"
      },
      "execution_count": 10,
      "outputs": []
    },
    {
      "cell_type": "code",
      "source": [
        "try:\n",
        "  import regionmask\n",
        "except:\n",
        "  %pip -q install regionmask\n",
        "  import regionmask"
      ],
      "metadata": {
        "id": "nzQ82_IyX5uL",
        "outputId": "14493c56-2eb9-4605-a9ea-899b99bb3b60",
        "colab": {
          "base_uri": "https://localhost:8080/"
        }
      },
      "execution_count": 11,
      "outputs": [
        {
          "output_type": "stream",
          "name": "stdout",
          "text": [
            "\u001b[?25l\r\u001b[K     |█████▌                          | 10 kB 20.8 MB/s eta 0:00:01\r\u001b[K     |███████████                     | 20 kB 13.7 MB/s eta 0:00:01\r\u001b[K     |████████████████▋               | 30 kB 7.8 MB/s eta 0:00:01\r\u001b[K     |██████████████████████          | 40 kB 3.5 MB/s eta 0:00:01\r\u001b[K     |███████████████████████████▋    | 51 kB 3.9 MB/s eta 0:00:01\r\u001b[K     |████████████████████████████████| 59 kB 2.8 MB/s \n",
            "\u001b[?25h"
          ]
        }
      ]
    },
    {
      "cell_type": "code",
      "source": [
        "basins = regionmask.defined_regions.natural_earth_v5_0_0.ocean_basins_50.to_geodataframe()\n",
        "basins = basins.dissolve()"
      ],
      "metadata": {
        "id": "kG8TM29cYEAM"
      },
      "execution_count": 12,
      "outputs": []
    },
    {
      "cell_type": "code",
      "source": [
        "ax = geoplot.polyplot(countries, projection=geoplot.crs.WebMercator())\n",
        "geoplot.kdeplot(gdf, cmap='Reds', shade=True, clip=basins, ax=ax);"
      ],
      "metadata": {
        "colab": {
          "base_uri": "https://localhost:8080/",
          "height": 757
        },
        "id": "dmiDd2t17afU",
        "outputId": "2bfaefaa-e876-4019-ef86-c46ce9073c55"
      },
      "execution_count": 15,
      "outputs": [
        {
          "output_type": "stream",
          "name": "stderr",
          "text": [
            "/usr/local/lib/python3.7/dist-packages/geoplot/geoplot.py:709: UserWarning: Could not set plot extent successfully due to numerical instability. Try setting extent manually. Defaulting to a global extent.\n",
            "  'Could not set plot extent successfully due to numerical instability. '\n",
            "/usr/local/lib/python3.7/dist-packages/cartopy/crs.py:228: ShapelyDeprecationWarning: __len__ for multi-part geometries is deprecated and will be removed in Shapely 2.0. Check the length of the `geoms` property instead to get the  number of parts of a multi-part geometry.\n",
            "  if len(multi_line_string) > 1:\n",
            "/usr/local/lib/python3.7/dist-packages/cartopy/crs.py:280: ShapelyDeprecationWarning: Iteration over multi-part geometries is deprecated and will be removed in Shapely 2.0. Use the `geoms` property to access the constituent parts of a multi-part geometry.\n",
            "  for line in multi_line_string:\n",
            "/usr/local/lib/python3.7/dist-packages/cartopy/crs.py:347: ShapelyDeprecationWarning: __len__ for multi-part geometries is deprecated and will be removed in Shapely 2.0. Check the length of the `geoms` property instead to get the  number of parts of a multi-part geometry.\n",
            "  if len(p_mline) > 0:\n",
            "/usr/local/lib/python3.7/dist-packages/cartopy/crs.py:228: ShapelyDeprecationWarning: __len__ for multi-part geometries is deprecated and will be removed in Shapely 2.0. Check the length of the `geoms` property instead to get the  number of parts of a multi-part geometry.\n",
            "  if len(multi_line_string) > 1:\n",
            "/usr/local/lib/python3.7/dist-packages/cartopy/crs.py:280: ShapelyDeprecationWarning: Iteration over multi-part geometries is deprecated and will be removed in Shapely 2.0. Use the `geoms` property to access the constituent parts of a multi-part geometry.\n",
            "  for line in multi_line_string:\n",
            "/usr/local/lib/python3.7/dist-packages/cartopy/crs.py:347: ShapelyDeprecationWarning: __len__ for multi-part geometries is deprecated and will be removed in Shapely 2.0. Check the length of the `geoms` property instead to get the  number of parts of a multi-part geometry.\n",
            "  if len(p_mline) > 0:\n",
            "/usr/local/lib/python3.7/dist-packages/cartopy/crs.py:239: ShapelyDeprecationWarning: Iteration over multi-part geometries is deprecated and will be removed in Shapely 2.0. Use the `geoms` property to access the constituent parts of a multi-part geometry.\n",
            "  line_strings = list(multi_line_string)\n",
            "/usr/local/lib/python3.7/dist-packages/cartopy/crs.py:239: ShapelyDeprecationWarning: __len__ for multi-part geometries is deprecated and will be removed in Shapely 2.0. Check the length of the `geoms` property instead to get the  number of parts of a multi-part geometry.\n",
            "  line_strings = list(multi_line_string)\n",
            "/usr/local/lib/python3.7/dist-packages/cartopy/crs.py:385: ShapelyDeprecationWarning: Iteration over multi-part geometries is deprecated and will be removed in Shapely 2.0. Use the `geoms` property to access the constituent parts of a multi-part geometry.\n",
            "  line_strings.extend(multi_line_string)\n",
            "/usr/local/lib/python3.7/dist-packages/cartopy/crs.py:385: ShapelyDeprecationWarning: __len__ for multi-part geometries is deprecated and will be removed in Shapely 2.0. Check the length of the `geoms` property instead to get the  number of parts of a multi-part geometry.\n",
            "  line_strings.extend(multi_line_string)\n"
          ]
        },
        {
          "output_type": "display_data",
          "data": {
            "text/plain": [
              "<Figure size 576x432 with 1 Axes>"
            ],
            "image/png": "[encoded data removed]"
          },
          "metadata": {}
        }
      ]
    },
    {
      "cell_type": "markdown",
      "source": [
        "### with latitude and longitude stacked side-by-side"
      ],
      "metadata": {
        "id": "D9x_SpSSshMB"
      }
    },
    {
      "cell_type": "code",
      "source": [
        "f, axes = plt.subplots(2, 2, figsize=(17,9.1), gridspec_kw={'width_ratios': [16, 1], 'height_ratios': [1, 8.7]})\n",
        "df[\"decimalLongitude\"].astype(int).plot.hist(ax=axes[0][0], bins=50, range=(-180, 180))\n",
        "axes[0][0].set_title(\"Longitude\")\n",
        "\n",
        "axes[0][1].set_facecolor('white')\n",
        "axes[0][1].tick_params(left=False, bottom=False, labelbottom=False, labelleft=False)\n",
        "\n",
        "axes[1][0] = geoplot.polyplot(countries, projection=geoplot.crs.PlateCarree())\n",
        "geoplot.kdeplot(gdf, cmap='Reds', shade=True, clip=basins, ax=axes[1][0]);\n",
        "\n",
        "axes[1][0].set_xlim(-180,180)\n",
        "axes[1][0].set_ylim(-90, 90)\n",
        "axes[1][0].set_title(\"Occurrence Records with heatmap based point density.\")\n",
        "axes[1][0].set_xlabel(\"\")\n",
        "axes[1][0].set_ylabel(\"\")\n",
        "df[\"decimalLatitude\"].astype(int).plot.hist(orientation='horizontal', ax=axes[1][1], bins=50, range=(-90, 90))\n",
        "\n",
        "axes[1][1].set_title(\"Latitude\")\n",
        "plt.show()"
      ],
      "metadata": {
        "id": "22RAJLvOABC4"
      },
      "execution_count": null,
      "outputs": []
    },
    {
      "cell_type": "markdown",
      "source": [
        "--------------------\n",
        "--------------------"
      ],
      "metadata": {
        "id": "98BiCP9Lskuw"
      }
    },
    {
      "cell_type": "markdown",
      "source": [
        "## Dynamic Plot"
      ],
      "metadata": {
        "id": "ETZg15qkAubW"
      }
    },
    {
      "cell_type": "code",
      "source": [
        "# defining areas of outputs\n",
        "map_out = widgets.Output(layout={'border': '1px solid black', 'padding': '0 4px 15px 4px'})\n",
        "map_out.append_stdout('map output\\n')\n",
        "\n",
        "graph_out = widgets.Output(layout={'border': '1px solid black', 'padding': '0 0 15px 4px'})\n",
        "graph_out.append_stdout('graph output\\n')\n",
        "\n",
        "zoom_out = widgets.Output(layout={'border': '1px solid black', 'padding': '0 4px 15px 0'})\n",
        "zoom_out.append_stdout('set a (lat, lon) to view zoom view\\n')"
      ],
      "metadata": {
        "id": "wJ7eFPgkxyf9"
      },
      "execution_count": null,
      "outputs": []
    },
    {
      "cell_type": "code",
      "source": [
        "# setting the buttons and fields\n",
        "taxonInput = widgets.IntText(description=\"Enter Taxon ID\", value = 127405)\n",
        "taxonButton = widgets.Button(description=\"Fetch Data\")\n",
        "graph = widgets.Button(description=\"Show graph\")\n",
        "map = widgets.Button(description=\"Show map\")\n",
        "zoom_button = widgets.Button(description=\"Open zoomed\")\n",
        "ilats = widgets.IntText(description=\"Lat.\")\n",
        "ilons = widgets.IntText(description=\"Long.\")\n",
        "zoom = widgets.IntText(description=\"Zoom by:\", value=20)"
      ],
      "metadata": {
        "id": "atnnXpPv6jcQ"
      },
      "execution_count": null,
      "outputs": []
    },
    {
      "cell_type": "code",
      "source": [
        "# defining click events\n",
        "def on_taxon_updated(b):\n",
        "  req = occ.search(taxonid = taxonInput.value, startdepth = -2000)\n",
        "  df = pd.DataFrame(req[\"results\"])\n",
        "\n",
        "@map_out.capture()\n",
        "def on_map_clicked(b):\n",
        "  map_out.clear_output()\n",
        "  countries.plot(color=\"grey\", figsize=(11,6))\n",
        "  plt.title(\"records\")\n",
        "  wmap = plt.scatter(data=df, x=\"decimalLongitude\", y=\"decimalLatitude\", c=df[\"depth\"], cmap=\"coolwarm\")\n",
        "  plt.xlabel(\"\")\n",
        "  plt.ylabel(\"\")\n",
        "  plt.colorbar(wmap)\n",
        "  plt.show()\n",
        "\n",
        "@zoom_out.capture()\n",
        "def on_zoom_clicked(b):\n",
        "  zoom_out.clear_output()\n",
        "  ax = countries.plot(color=\"lightgrey\")\n",
        "  plt.scatter(data=df, x=\"decimalLongitude\", y=\"decimalLatitude\", c=df[\"depth\"], cmap=\"coolwarm\")\n",
        "  plt.rc('figure',figsize=(5,5))\n",
        "  plt.xlabel(\"\")\n",
        "  plt.ylabel(\"\")\n",
        "  plt.title(f\"zoomed around {ilons.value, ilats.value}\")\n",
        "  ax.set_xlim(ilons.value-zoom.value,ilons.value+zoom.value)\n",
        "  ax.set_ylim(ilats.value-zoom.value,ilats.value+zoom.value)\n",
        "  plt.show()\n",
        "\n",
        "@graph_out.capture()\n",
        "def on_graph_clicked(b):\n",
        "  graph_out.clear_output()\n",
        "  plt.figure(figsize=(5,2.2))\n",
        "  plt.title(\"records histogram\");\n",
        "  sns.histplot(df[\"decimalLatitude\"].astype(int), kde=True)\n",
        "  plt.figure(figsize=(5,2.2))\n",
        "  sns.histplot(df[\"decimalLongitude\"].astype(int), kde=True)\n",
        "  graph_out.append_stdout(plt.show())\n",
        "\n",
        "taxonButton.on_click(on_taxon_updated)\n",
        "graph.on_click(on_graph_clicked)\n",
        "map.on_click(on_map_clicked)\n",
        "zoom_button.on_click(on_zoom_clicked)"
      ],
      "metadata": {
        "id": "HtjLJpbQx2H9"
      },
      "execution_count": null,
      "outputs": []
    },
    {
      "cell_type": "markdown",
      "source": [
        "Let's see the widgets."
      ],
      "metadata": {
        "id": "2myez2wvxmPt"
      }
    },
    {
      "cell_type": "code",
      "source": [
        "widgets.VBox([\n",
        "    widgets.HBox([\n",
        "        taxonInput, taxonButton\n",
        "    ]),\n",
        "    widgets.VBox([\n",
        "      widgets.HBox([zoom_out, map_out, graph_out]),\n",
        "        widgets.VBox([\n",
        "          widgets.HBox([ilons,ilats, zoom]),\n",
        "            widgets.HBox([map, zoom_button, graph])\n",
        "      ])\n",
        "  ])\n",
        "])"
      ],
      "metadata": {
        "colab": {
          "base_uri": "https://localhost:8080/",
          "height": 484,
          "referenced_widgets": [
            "a4d94c59e0704675a02b1f80304996c4",
            "418c7945b2324a858664433ce05e00c1",
            "c8aafef54f5b4aceb2cbca6835e1bb0d",
            "1c4171c6f85c49dca97a3d88f53df4bd",
            "0e8875d46c6d479593bc02ecd0b10ef5",
            "ad3c006bfbe34f349b55a6c3600f9a0a",
            "7297b29ede474b14a95cccf0768f3b2e",
            "d900866cae41479382c6d98d319cb76a",
            "1b3dd46e9c61481185a2b2fb9e8a710e",
            "22ad713724b4410281e5a8b8f9e69f65",
            "7063f228515b497ca8589d9b71c04fdf",
            "32442f1c7a3e4fe09b2dcefbcfdf72f4",
            "a2ab7f7a4d4f4e9e9a54e33b3d82b8de",
            "e24d8863a99646a3a9c4e66d30af6568",
            "0e55ba69098e46bc9f72124a4f5d35e1",
            "daf7f068753e4681b3cd3371cd71c010",
            "b92aa8168bc04f62bde7c06d3b622a8f",
            "b0e0acd491ef432b90740f59da2537b8",
            "1fd5d96463b1428ba3cf0092c0f8c9a4",
            "7786d85685c547e99ec5288431cc09f7",
            "e3faa658c2d4469fac0e2906e7a59440",
            "119692b404db442a8dfb3ffb6f8cb7d7",
            "f8963ff93e394b10816b5929330a88ea",
            "54d5c2413d4b49cab8a82260e6f7a149",
            "9d4f01f5188642528991c4b019a37ccb",
            "b908b5297bfd42fa89744bf23578253e",
            "46612236503144bab422312622d5806f",
            "148ee8af8366491b9cd73e139ecb5211",
            "377f449c94404ae5bb9fb742010b945e",
            "8dcadacdd68141daac320a7527d029ab",
            "b09d4ee8e2584a1ab37833ae934c9bbe",
            "f0359ac2baf14308a6788e65d843b6e2",
            "1eb64471955049219cb5001e422dc16d",
            "386a9d89c331412abfdc178588ca3f46",
            "3e782b51314c4e8a9db2920e637b9765",
            "13dd4c62f58f4e2eb5422703bbae45ad",
            "aa56657dd7a14f33aa76c01c7dee4547",
            "c319a7b93a4b45f698644e8d8dec71b3",
            "e1bbb9c645604f29afdb18a5d327d46b",
            "dd7b4fa962ff488390cb54688cb252b9",
            "b4bbadee58e1493e9c35c69c34ca6661",
            "1a0cdbd0dbff48aaba42549a1cb4711b",
            "640986bd0c444d42a6c1e6015e372d95",
            "0430f740c2ef421ba363a465f4da6477"
          ]
        },
        "id": "TwG-OOwOxlgd",
        "outputId": "c11e9555-ba7c-4840-ceab-895ef6ee83c3"
      },
      "execution_count": null,
      "outputs": [
        {
          "output_type": "display_data",
          "data": {
            "text/plain": [
              "VBox(children=(HBox(children=(IntText(value=127405, description='Enter Taxon ID'), Button(description='Fetch D…"
            ],
            "application/vnd.jupyter.widget-view+json": {
              "version_major": 2,
              "version_minor": 0,
              "model_id": "a4d94c59e0704675a02b1f80304996c4"
            }
          },
          "metadata": {}
        }
      ]
    }
  ]
}