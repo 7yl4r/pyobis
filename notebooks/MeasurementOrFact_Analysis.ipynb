{
  "nbformat": 4,
  "nbformat_minor": 0,
  "metadata": {
    "colab": {
      "name": "MeasurementOrFact_Analysis.ipynb",
      "provenance": [],
      "collapsed_sections": [],
      "authorship_tag": "ABX9TyMc+9xlM5HkQTKtFJ1ywShd",
      "include_colab_link": true
    },
    "kernelspec": {
      "name": "python3",
      "display_name": "Python 3"
    },
    "language_info": {
      "name": "python"
    }
  },
  "cells": [
    {
      "cell_type": "markdown",
      "metadata": {
        "id": "view-in-github",
        "colab_type": "text"
      },
      "source": [
        "<a href=\"https://colab.research.google.com/github/ayushanand18/pyobis/blob/mof-viz/notebooks/MeasurementOrFact_Analysis.ipynb\" target=\"_parent\"><img src=\"https://colab.research.google.com/assets/colab-badge.svg\" alt=\"Open In Colab\"/></a>"
      ]
    },
    {
      "cell_type": "markdown",
      "source": [
        "# MeasurementOrFacts Analysis\n",
        "\n",
        "MeasurementOrFacts is a measurement of or fact about an rdfs:Resource [http://www.w3.org/2000/01/rdf-schema#Resource](http://www.w3.org/2000/01/rdf-schema#Resource). Resources can be thought of as identifiable records or instances of classes and may include, but need not be limited to dwc:Occurrence, dwc:Organism, dwc:MaterialSample, dwc:Event, dwc:Location, dwc:GeologicalContext, dwc:Identification, or dwc:Taxon.\n",
        "\n",
        "\n",
        "For example, A MoF record can be the weight of an organism in grams. The number of placental scars. Surface water temperature in Celsius.\n",
        "\n",
        "> Read more about classifying and studying MeasurementOrFacts [here](https://dwc.tdwg.org/terms/#measurementorfact).\n",
        "\n",
        "\n",
        "We will use `pyobis` - python client for [OBIS (Ocean Biodiversity Information System)](https://obis.org) to fetch MoF records and analyse them.\n"
      ],
      "metadata": {
        "id": "ctTVMI2lUTAm"
      }
    },
    {
      "cell_type": "markdown",
      "source": [
        "## Installing `pyobis`"
      ],
      "metadata": {
        "id": "lT67iMqsUW4K"
      }
    },
    {
      "cell_type": "code",
      "execution_count": 1,
      "metadata": {
        "id": "fyJZrI3hUNTD"
      },
      "outputs": [],
      "source": [
        "try:\n",
        "  import pyobis\n",
        "except:\n",
        "  !pip install -q \"git+https://github.com/iobis/pyobis.git\""
      ]
    },
    {
      "cell_type": "markdown",
      "source": [
        "### importing other modules"
      ],
      "metadata": {
        "id": "iNzcDvHgUaqr"
      }
    },
    {
      "cell_type": "code",
      "source": [
        "import pandas as pd\n",
        "import numpy as np\n",
        "from matplotlib import pyplot as plt\n",
        "%matplotlib inline\n",
        "import seaborn as sns"
      ],
      "metadata": {
        "id": "zfgUZdhZUeFb"
      },
      "execution_count": 2,
      "outputs": []
    },
    {
      "cell_type": "code",
      "source": [
        "from pyobis import occurrences as occ"
      ],
      "metadata": {
        "id": "CDbA6N0NUpSr"
      },
      "execution_count": 3,
      "outputs": []
    },
    {
      "cell_type": "markdown",
      "source": [
        "## Grabbing data\n",
        "\n",
        "Let us grab some MoF data for a species say *Egregia menziesii* commonly known as Feather boa kelp. This is an algae of the lower intertidal to subtidal zones."
      ],
      "metadata": {
        "id": "JwYPWkmSUsxa"
      }
    },
    {
      "cell_type": "code",
      "source": [
        "data = occ.search(scientificname=\"Egregia menziesii\", mof=True, hasextensions=\"MeasurementOrFacts\")\n",
        "data"
      ],
      "metadata": {
        "colab": {
          "base_uri": "https://localhost:8080/",
          "height": 1000
        },
        "id": "Lyx9EbRaXMoc",
        "outputId": "b05f3acf-f967-44ca-d97c-e9b0a3ff2e43"
      },
      "execution_count": 4,
      "outputs": [
        {
          "output_type": "stream",
          "name": "stdout",
          "text": [
            "\n",
            "Fetched 31046 records.\n"
          ]
        },
        {
          "output_type": "execute_result",
          "data": {
            "text/plain": [
              "       infraphylum  date_year                           scientificNameID  \\\n",
              "0         Limnista     2009.0  urn:lsid:marinespecies.org:taxname:372502   \n",
              "1         Limnista     2009.0  urn:lsid:marinespecies.org:taxname:372502   \n",
              "2         Limnista     2009.0  urn:lsid:marinespecies.org:taxname:372502   \n",
              "3         Limnista     2009.0  urn:lsid:marinespecies.org:taxname:372502   \n",
              "4         Limnista     2009.0  urn:lsid:marinespecies.org:taxname:372502   \n",
              "...            ...        ...                                        ...   \n",
              "208909    Limnista     2004.0  urn:lsid:marinespecies.org:taxname:372502   \n",
              "208910    Limnista     2004.0  urn:lsid:marinespecies.org:taxname:372502   \n",
              "208911    Limnista     2004.0  urn:lsid:marinespecies.org:taxname:372502   \n",
              "208912    Limnista     2004.0  urn:lsid:marinespecies.org:taxname:372502   \n",
              "208913    Limnista     2004.0  urn:lsid:marinespecies.org:taxname:372502   \n",
              "\n",
              "           scientificName  dropped  aphiaID  decimalLatitude  subclassid  \\\n",
              "0       Egregia menziesii    False   372502        36.944871   1304856.0   \n",
              "1       Egregia menziesii    False   372502        36.944871   1304856.0   \n",
              "2       Egregia menziesii    False   372502        36.944871   1304856.0   \n",
              "3       Egregia menziesii    False   372502        36.944871   1304856.0   \n",
              "4       Egregia menziesii    False   372502        36.944871   1304856.0   \n",
              "...                   ...      ...      ...              ...         ...   \n",
              "208909  Egregia menziesii    False   372502        34.071900   1304856.0   \n",
              "208910  Egregia menziesii    False   372502        34.071900   1304856.0   \n",
              "208911  Egregia menziesii    False   372502        34.071900   1304856.0   \n",
              "208912  Egregia menziesii    False   372502        34.071900   1304856.0   \n",
              "208913  Egregia menziesii    False   372502        34.071900   1304856.0   \n",
              "\n",
              "        infraphylumid  phylumid  ...  measurementValueID level  \\\n",
              "0              591205    345465  ...                None     0   \n",
              "1              591205    345465  ...                None     0   \n",
              "2              591205    345465  ...                None     0   \n",
              "3              591205    345465  ...                None     0   \n",
              "4              591205    345465  ...                None     0   \n",
              "...               ...       ...  ...                 ...   ...   \n",
              "208909         591205    345465  ...                None     0   \n",
              "208910         591205    345465  ...                None     0   \n",
              "208911         591205    345465  ...                None     0   \n",
              "208912         591205    345465  ...                None     0   \n",
              "208913         591205    345465  ...                None     0   \n",
              "\n",
              "                       occurrenceID_y      measurementUnit  \\\n",
              "0       KEEN-TS-PISCO_subtidal-756777  number per sq metre   \n",
              "1       KEEN-TS-PISCO_subtidal-756777  number per sq metre   \n",
              "2       KEEN-TS-PISCO_subtidal-756777  number per sq metre   \n",
              "3       KEEN-TS-PISCO_subtidal-756777  number per sq metre   \n",
              "4       KEEN-TS-PISCO_subtidal-756777  number per sq metre   \n",
              "...                               ...                  ...   \n",
              "208909  KEEN-TS-PISCO_subtidal-563142  number per sq metre   \n",
              "208910  KEEN-TS-PISCO_subtidal-563142  number per sq metre   \n",
              "208911  KEEN-TS-PISCO_subtidal-563142  number per sq metre   \n",
              "208912  KEEN-TS-PISCO_subtidal-563142  number per sq metre   \n",
              "208913  KEEN-TS-PISCO_subtidal-563142  number per sq metre   \n",
              "\n",
              "       measurementDeterminedDate     measurementType  measurementUnitID  \\\n",
              "0                           None  Individual Density               None   \n",
              "1                           None  Individual Density               None   \n",
              "2                           None  Individual Density               None   \n",
              "3                           None  Individual Density               None   \n",
              "4                           None  Individual Density               None   \n",
              "...                          ...                 ...                ...   \n",
              "208909                      None  Individual Density               None   \n",
              "208910                      None  Individual Density               None   \n",
              "208911                      None  Individual Density               None   \n",
              "208912                      None  Individual Density               None   \n",
              "208913                      None  Individual Density               None   \n",
              "\n",
              "       measurementTypeID                                     measurementID  \\\n",
              "0                   None  KEEN-TS-PISCO_subtidal-756777-indivudual-density   \n",
              "1                   None  KEEN-TS-PISCO_subtidal-756777-indivudual-density   \n",
              "2                   None  KEEN-TS-PISCO_subtidal-756777-indivudual-density   \n",
              "3                   None  KEEN-TS-PISCO_subtidal-756777-indivudual-density   \n",
              "4                   None  KEEN-TS-PISCO_subtidal-756777-indivudual-density   \n",
              "...                  ...                                               ...   \n",
              "208909              None  KEEN-TS-PISCO_subtidal-563142-indivudual-density   \n",
              "208910              None  KEEN-TS-PISCO_subtidal-563142-indivudual-density   \n",
              "208911              None  KEEN-TS-PISCO_subtidal-563142-indivudual-density   \n",
              "208912              None  KEEN-TS-PISCO_subtidal-563142-indivudual-density   \n",
              "208913              None  KEEN-TS-PISCO_subtidal-563142-indivudual-density   \n",
              "\n",
              "       measurementMethod  \n",
              "0                   None  \n",
              "1                   None  \n",
              "2                   None  \n",
              "3                   None  \n",
              "4                   None  \n",
              "...                  ...  \n",
              "208909              None  \n",
              "208910              None  \n",
              "208911              None  \n",
              "208912              None  \n",
              "208913              None  \n",
              "\n",
              "[208914 rows x 97 columns]"
            ],
            "text/html": [
              "\n",
              "  <div id=\"df-507b0d01-ad3c-4139-8747-d2da6ffc9668\">\n",
              "    <div class=\"colab-df-container\">\n",
              "      <div>\n",
              "<style scoped>\n",
              "    .dataframe tbody tr th:only-of-type {\n",
              "        vertical-align: middle;\n",
              "    }\n",
              "\n",
              "    .dataframe tbody tr th {\n",
              "        vertical-align: top;\n",
              "    }\n",
              "\n",
              "    .dataframe thead th {\n",
              "        text-align: right;\n",
              "    }\n",
              "</style>\n",
              "<table border=\"1\" class=\"dataframe\">\n",
              "  <thead>\n",
              "    <tr style=\"text-align: right;\">\n",
              "      <th></th>\n",
              "      <th>infraphylum</th>\n",
              "      <th>date_year</th>\n",
              "      <th>scientificNameID</th>\n",
              "      <th>scientificName</th>\n",
              "      <th>dropped</th>\n",
              "      <th>aphiaID</th>\n",
              "      <th>decimalLatitude</th>\n",
              "      <th>subclassid</th>\n",
              "      <th>infraphylumid</th>\n",
              "      <th>phylumid</th>\n",
              "      <th>...</th>\n",
              "      <th>measurementValueID</th>\n",
              "      <th>level</th>\n",
              "      <th>occurrenceID_y</th>\n",
              "      <th>measurementUnit</th>\n",
              "      <th>measurementDeterminedDate</th>\n",
              "      <th>measurementType</th>\n",
              "      <th>measurementUnitID</th>\n",
              "      <th>measurementTypeID</th>\n",
              "      <th>measurementID</th>\n",
              "      <th>measurementMethod</th>\n",
              "    </tr>\n",
              "  </thead>\n",
              "  <tbody>\n",
              "    <tr>\n",
              "      <th>0</th>\n",
              "      <td>Limnista</td>\n",
              "      <td>2009.0</td>\n",
              "      <td>urn:lsid:marinespecies.org:taxname:372502</td>\n",
              "      <td>Egregia menziesii</td>\n",
              "      <td>False</td>\n",
              "      <td>372502</td>\n",
              "      <td>36.944871</td>\n",
              "      <td>1304856.0</td>\n",
              "      <td>591205</td>\n",
              "      <td>345465</td>\n",
              "      <td>...</td>\n",
              "      <td>None</td>\n",
              "      <td>0</td>\n",
              "      <td>KEEN-TS-PISCO_subtidal-756777</td>\n",
              "      <td>number per sq metre</td>\n",
              "      <td>None</td>\n",
              "      <td>Individual Density</td>\n",
              "      <td>None</td>\n",
              "      <td>None</td>\n",
              "      <td>KEEN-TS-PISCO_subtidal-756777-indivudual-density</td>\n",
              "      <td>None</td>\n",
              "    </tr>\n",
              "    <tr>\n",
              "      <th>1</th>\n",
              "      <td>Limnista</td>\n",
              "      <td>2009.0</td>\n",
              "      <td>urn:lsid:marinespecies.org:taxname:372502</td>\n",
              "      <td>Egregia menziesii</td>\n",
              "      <td>False</td>\n",
              "      <td>372502</td>\n",
              "      <td>36.944871</td>\n",
              "      <td>1304856.0</td>\n",
              "      <td>591205</td>\n",
              "      <td>345465</td>\n",
              "      <td>...</td>\n",
              "      <td>None</td>\n",
              "      <td>0</td>\n",
              "      <td>KEEN-TS-PISCO_subtidal-756777</td>\n",
              "      <td>number per sq metre</td>\n",
              "      <td>None</td>\n",
              "      <td>Individual Density</td>\n",
              "      <td>None</td>\n",
              "      <td>None</td>\n",
              "      <td>KEEN-TS-PISCO_subtidal-756777-indivudual-density</td>\n",
              "      <td>None</td>\n",
              "    </tr>\n",
              "    <tr>\n",
              "      <th>2</th>\n",
              "      <td>Limnista</td>\n",
              "      <td>2009.0</td>\n",
              "      <td>urn:lsid:marinespecies.org:taxname:372502</td>\n",
              "      <td>Egregia menziesii</td>\n",
              "      <td>False</td>\n",
              "      <td>372502</td>\n",
              "      <td>36.944871</td>\n",
              "      <td>1304856.0</td>\n",
              "      <td>591205</td>\n",
              "      <td>345465</td>\n",
              "      <td>...</td>\n",
              "      <td>None</td>\n",
              "      <td>0</td>\n",
              "      <td>KEEN-TS-PISCO_subtidal-756777</td>\n",
              "      <td>number per sq metre</td>\n",
              "      <td>None</td>\n",
              "      <td>Individual Density</td>\n",
              "      <td>None</td>\n",
              "      <td>None</td>\n",
              "      <td>KEEN-TS-PISCO_subtidal-756777-indivudual-density</td>\n",
              "      <td>None</td>\n",
              "    </tr>\n",
              "    <tr>\n",
              "      <th>3</th>\n",
              "      <td>Limnista</td>\n",
              "      <td>2009.0</td>\n",
              "      <td>urn:lsid:marinespecies.org:taxname:372502</td>\n",
              "      <td>Egregia menziesii</td>\n",
              "      <td>False</td>\n",
              "      <td>372502</td>\n",
              "      <td>36.944871</td>\n",
              "      <td>1304856.0</td>\n",
              "      <td>591205</td>\n",
              "      <td>345465</td>\n",
              "      <td>...</td>\n",
              "      <td>None</td>\n",
              "      <td>0</td>\n",
              "      <td>KEEN-TS-PISCO_subtidal-756777</td>\n",
              "      <td>number per sq metre</td>\n",
              "      <td>None</td>\n",
              "      <td>Individual Density</td>\n",
              "      <td>None</td>\n",
              "      <td>None</td>\n",
              "      <td>KEEN-TS-PISCO_subtidal-756777-indivudual-density</td>\n",
              "      <td>None</td>\n",
              "    </tr>\n",
              "    <tr>\n",
              "      <th>4</th>\n",
              "      <td>Limnista</td>\n",
              "      <td>2009.0</td>\n",
              "      <td>urn:lsid:marinespecies.org:taxname:372502</td>\n",
              "      <td>Egregia menziesii</td>\n",
              "      <td>False</td>\n",
              "      <td>372502</td>\n",
              "      <td>36.944871</td>\n",
              "      <td>1304856.0</td>\n",
              "      <td>591205</td>\n",
              "      <td>345465</td>\n",
              "      <td>...</td>\n",
              "      <td>None</td>\n",
              "      <td>0</td>\n",
              "      <td>KEEN-TS-PISCO_subtidal-756777</td>\n",
              "      <td>number per sq metre</td>\n",
              "      <td>None</td>\n",
              "      <td>Individual Density</td>\n",
              "      <td>None</td>\n",
              "      <td>None</td>\n",
              "      <td>KEEN-TS-PISCO_subtidal-756777-indivudual-density</td>\n",
              "      <td>None</td>\n",
              "    </tr>\n",
              "    <tr>\n",
              "      <th>...</th>\n",
              "      <td>...</td>\n",
              "      <td>...</td>\n",
              "      <td>...</td>\n",
              "      <td>...</td>\n",
              "      <td>...</td>\n",
              "      <td>...</td>\n",
              "      <td>...</td>\n",
              "      <td>...</td>\n",
              "      <td>...</td>\n",
              "      <td>...</td>\n",
              "      <td>...</td>\n",
              "      <td>...</td>\n",
              "      <td>...</td>\n",
              "      <td>...</td>\n",
              "      <td>...</td>\n",
              "      <td>...</td>\n",
              "      <td>...</td>\n",
              "      <td>...</td>\n",
              "      <td>...</td>\n",
              "      <td>...</td>\n",
              "      <td>...</td>\n",
              "    </tr>\n",
              "    <tr>\n",
              "      <th>208909</th>\n",
              "      <td>Limnista</td>\n",
              "      <td>2004.0</td>\n",
              "      <td>urn:lsid:marinespecies.org:taxname:372502</td>\n",
              "      <td>Egregia menziesii</td>\n",
              "      <td>False</td>\n",
              "      <td>372502</td>\n",
              "      <td>34.071900</td>\n",
              "      <td>1304856.0</td>\n",
              "      <td>591205</td>\n",
              "      <td>345465</td>\n",
              "      <td>...</td>\n",
              "      <td>None</td>\n",
              "      <td>0</td>\n",
              "      <td>KEEN-TS-PISCO_subtidal-563142</td>\n",
              "      <td>number per sq metre</td>\n",
              "      <td>None</td>\n",
              "      <td>Individual Density</td>\n",
              "      <td>None</td>\n",
              "      <td>None</td>\n",
              "      <td>KEEN-TS-PISCO_subtidal-563142-indivudual-density</td>\n",
              "      <td>None</td>\n",
              "    </tr>\n",
              "    <tr>\n",
              "      <th>208910</th>\n",
              "      <td>Limnista</td>\n",
              "      <td>2004.0</td>\n",
              "      <td>urn:lsid:marinespecies.org:taxname:372502</td>\n",
              "      <td>Egregia menziesii</td>\n",
              "      <td>False</td>\n",
              "      <td>372502</td>\n",
              "      <td>34.071900</td>\n",
              "      <td>1304856.0</td>\n",
              "      <td>591205</td>\n",
              "      <td>345465</td>\n",
              "      <td>...</td>\n",
              "      <td>None</td>\n",
              "      <td>0</td>\n",
              "      <td>KEEN-TS-PISCO_subtidal-563142</td>\n",
              "      <td>number per sq metre</td>\n",
              "      <td>None</td>\n",
              "      <td>Individual Density</td>\n",
              "      <td>None</td>\n",
              "      <td>None</td>\n",
              "      <td>KEEN-TS-PISCO_subtidal-563142-indivudual-density</td>\n",
              "      <td>None</td>\n",
              "    </tr>\n",
              "    <tr>\n",
              "      <th>208911</th>\n",
              "      <td>Limnista</td>\n",
              "      <td>2004.0</td>\n",
              "      <td>urn:lsid:marinespecies.org:taxname:372502</td>\n",
              "      <td>Egregia menziesii</td>\n",
              "      <td>False</td>\n",
              "      <td>372502</td>\n",
              "      <td>34.071900</td>\n",
              "      <td>1304856.0</td>\n",
              "      <td>591205</td>\n",
              "      <td>345465</td>\n",
              "      <td>...</td>\n",
              "      <td>None</td>\n",
              "      <td>0</td>\n",
              "      <td>KEEN-TS-PISCO_subtidal-563142</td>\n",
              "      <td>number per sq metre</td>\n",
              "      <td>None</td>\n",
              "      <td>Individual Density</td>\n",
              "      <td>None</td>\n",
              "      <td>None</td>\n",
              "      <td>KEEN-TS-PISCO_subtidal-563142-indivudual-density</td>\n",
              "      <td>None</td>\n",
              "    </tr>\n",
              "    <tr>\n",
              "      <th>208912</th>\n",
              "      <td>Limnista</td>\n",
              "      <td>2004.0</td>\n",
              "      <td>urn:lsid:marinespecies.org:taxname:372502</td>\n",
              "      <td>Egregia menziesii</td>\n",
              "      <td>False</td>\n",
              "      <td>372502</td>\n",
              "      <td>34.071900</td>\n",
              "      <td>1304856.0</td>\n",
              "      <td>591205</td>\n",
              "      <td>345465</td>\n",
              "      <td>...</td>\n",
              "      <td>None</td>\n",
              "      <td>0</td>\n",
              "      <td>KEEN-TS-PISCO_subtidal-563142</td>\n",
              "      <td>number per sq metre</td>\n",
              "      <td>None</td>\n",
              "      <td>Individual Density</td>\n",
              "      <td>None</td>\n",
              "      <td>None</td>\n",
              "      <td>KEEN-TS-PISCO_subtidal-563142-indivudual-density</td>\n",
              "      <td>None</td>\n",
              "    </tr>\n",
              "    <tr>\n",
              "      <th>208913</th>\n",
              "      <td>Limnista</td>\n",
              "      <td>2004.0</td>\n",
              "      <td>urn:lsid:marinespecies.org:taxname:372502</td>\n",
              "      <td>Egregia menziesii</td>\n",
              "      <td>False</td>\n",
              "      <td>372502</td>\n",
              "      <td>34.071900</td>\n",
              "      <td>1304856.0</td>\n",
              "      <td>591205</td>\n",
              "      <td>345465</td>\n",
              "      <td>...</td>\n",
              "      <td>None</td>\n",
              "      <td>0</td>\n",
              "      <td>KEEN-TS-PISCO_subtidal-563142</td>\n",
              "      <td>number per sq metre</td>\n",
              "      <td>None</td>\n",
              "      <td>Individual Density</td>\n",
              "      <td>None</td>\n",
              "      <td>None</td>\n",
              "      <td>KEEN-TS-PISCO_subtidal-563142-indivudual-density</td>\n",
              "      <td>None</td>\n",
              "    </tr>\n",
              "  </tbody>\n",
              "</table>\n",
              "<p>208914 rows × 97 columns</p>\n",
              "</div>\n",
              "      <button class=\"colab-df-convert\" onclick=\"convertToInteractive('df-507b0d01-ad3c-4139-8747-d2da6ffc9668')\"\n",
              "              title=\"Convert this dataframe to an interactive table.\"\n",
              "              style=\"display:none;\">\n",
              "        \n",
              "  <svg xmlns=\"http://www.w3.org/2000/svg\" height=\"24px\"viewBox=\"0 0 24 24\"\n",
              "       width=\"24px\">\n",
              "    <path d=\"M0 0h24v24H0V0z\" fill=\"none\"/>\n",
              "    <path d=\"M18.56 5.44l.94 2.06.94-2.06 2.06-.94-2.06-.94-.94-2.06-.94 2.06-2.06.94zm-11 1L8.5 8.5l.94-2.06 2.06-.94-2.06-.94L8.5 2.5l-.94 2.06-2.06.94zm10 10l.94 2.06.94-2.06 2.06-.94-2.06-.94-.94-2.06-.94 2.06-2.06.94z\"/><path d=\"M17.41 7.96l-1.37-1.37c-.4-.4-.92-.59-1.43-.59-.52 0-1.04.2-1.43.59L10.3 9.45l-7.72 7.72c-.78.78-.78 2.05 0 2.83L4 21.41c.39.39.9.59 1.41.59.51 0 1.02-.2 1.41-.59l7.78-7.78 2.81-2.81c.8-.78.8-2.07 0-2.86zM5.41 20L4 18.59l7.72-7.72 1.47 1.35L5.41 20z\"/>\n",
              "  </svg>\n",
              "      </button>\n",
              "      \n",
              "  <style>\n",
              "    .colab-df-container {\n",
              "      display:flex;\n",
              "      flex-wrap:wrap;\n",
              "      gap: 12px;\n",
              "    }\n",
              "\n",
              "    .colab-df-convert {\n",
              "      background-color: #E8F0FE;\n",
              "      border: none;\n",
              "      border-radius: 50%;\n",
              "      cursor: pointer;\n",
              "      display: none;\n",
              "      fill: #1967D2;\n",
              "      height: 32px;\n",
              "      padding: 0 0 0 0;\n",
              "      width: 32px;\n",
              "    }\n",
              "\n",
              "    .colab-df-convert:hover {\n",
              "      background-color: #E2EBFA;\n",
              "      box-shadow: 0px 1px 2px rgba(60, 64, 67, 0.3), 0px 1px 3px 1px rgba(60, 64, 67, 0.15);\n",
              "      fill: #174EA6;\n",
              "    }\n",
              "\n",
              "    [theme=dark] .colab-df-convert {\n",
              "      background-color: #3B4455;\n",
              "      fill: #D2E3FC;\n",
              "    }\n",
              "\n",
              "    [theme=dark] .colab-df-convert:hover {\n",
              "      background-color: #434B5C;\n",
              "      box-shadow: 0px 1px 3px 1px rgba(0, 0, 0, 0.15);\n",
              "      filter: drop-shadow(0px 1px 2px rgba(0, 0, 0, 0.3));\n",
              "      fill: #FFFFFF;\n",
              "    }\n",
              "  </style>\n",
              "\n",
              "      <script>\n",
              "        const buttonEl =\n",
              "          document.querySelector('#df-507b0d01-ad3c-4139-8747-d2da6ffc9668 button.colab-df-convert');\n",
              "        buttonEl.style.display =\n",
              "          google.colab.kernel.accessAllowed ? 'block' : 'none';\n",
              "\n",
              "        async function convertToInteractive(key) {\n",
              "          const element = document.querySelector('#df-507b0d01-ad3c-4139-8747-d2da6ffc9668');\n",
              "          const dataTable =\n",
              "            await google.colab.kernel.invokeFunction('convertToInteractive',\n",
              "                                                     [key], {});\n",
              "          if (!dataTable) return;\n",
              "\n",
              "          const docLinkHtml = 'Like what you see? Visit the ' +\n",
              "            '<a target=\"_blank\" href=https://colab.research.google.com/notebooks/data_table.ipynb>data table notebook</a>'\n",
              "            + ' to learn more about interactive tables.';\n",
              "          element.innerHTML = '';\n",
              "          dataTable['output_type'] = 'display_data';\n",
              "          await google.colab.output.renderOutput(dataTable, element);\n",
              "          const docLink = document.createElement('div');\n",
              "          docLink.innerHTML = docLinkHtml;\n",
              "          element.appendChild(docLink);\n",
              "        }\n",
              "      </script>\n",
              "    </div>\n",
              "  </div>\n",
              "  "
            ]
          },
          "metadata": {},
          "execution_count": 4
        }
      ]
    },
    {
      "cell_type": "markdown",
      "source": [
        "This is some good data, 35688 records. Looks promising."
      ],
      "metadata": {
        "id": "9icqfSzsul-Y"
      }
    },
    {
      "cell_type": "markdown",
      "source": [
        "### 0. Things behind the data\n",
        "We started this section heading with a zero specifically to seperate it out from the rest of the analysis we are going to perform later. It will be wiser to start looking at the dataset composition before moving on to the analysis part.\n"
      ],
      "metadata": {
        "id": "C-vsO9nGJj9s"
      }
    },
    {
      "cell_type": "code",
      "source": [
        "sns.set(rc = {'figure.figsize':(15,10)}, style=\"darkgrid\")"
      ],
      "metadata": {
        "id": "D5ihh2bzlDZC"
      },
      "execution_count": 38,
      "outputs": []
    },
    {
      "cell_type": "code",
      "source": [
        "data.groupby(\"dataset_id\").scientificName.count().plot.pie(autopct=\"%1.2f%%\")\n",
        "plt.title(\"records contribution by each dataset (UUID)\");"
      ],
      "metadata": {
        "colab": {
          "base_uri": "https://localhost:8080/",
          "height": 591
        },
        "id": "jWouJjqYJroc",
        "outputId": "21711b5a-1831-4cc4-a048-f738df44dab3"
      },
      "execution_count": 40,
      "outputs": [
        {
          "output_type": "display_data",
          "data": {
            "text/plain": [
              "<Figure size 1080x720 with 1 Axes>"
            ],
            "image/png": "[encoded data removed]"
          },
          "metadata": {}
        }
      ]
    },
    {
      "cell_type": "markdown",
      "source": [
        "We can see that most of the data we have got for this species has been taken from one single source that accounts for nearly 89% of the total number of records. Therefore, the findings in this analysis might or might not be the complete picture."
      ],
      "metadata": {
        "id": "GIlWEYqUNvRS"
      }
    },
    {
      "cell_type": "markdown",
      "source": [
        "So getting started, let us first see what kinds of measurements do we have."
      ],
      "metadata": {
        "id": "6m4Z4gWcu5DA"
      }
    },
    {
      "cell_type": "code",
      "source": [
        "data[\"measurementType\"].unique()"
      ],
      "metadata": {
        "colab": {
          "base_uri": "https://localhost:8080/"
        },
        "id": "j8JuRYL7w-pT",
        "outputId": "54b70e02-2fa2-4991-8f56-cb60f3464079"
      },
      "execution_count": 6,
      "outputs": [
        {
          "output_type": "execute_result",
          "data": {
            "text/plain": [
              "array(['Individual Density',\n",
              "       'Proportion coverage mean of biological entity specified elsewhere',\n",
              "       'Proportion coverage standard deviation of biological entity specified elsewhere',\n",
              "       'Proportion coverage standard error of biological entity specified elsewhere',\n",
              "       'cover', 'relief', 'substrate', 'visibility'], dtype=object)"
            ]
          },
          "metadata": {},
          "execution_count": 6
        }
      ]
    },
    {
      "cell_type": "markdown",
      "source": [
        "### 1. individual density v/s years\n",
        "\n",
        "Let us first visualize how `individual density` is spread across years. For this we need to get the `year` first from the `eventDate`."
      ],
      "metadata": {
        "id": "5nLKYypOxCWM"
      }
    },
    {
      "cell_type": "code",
      "source": [
        "data[\"nYear\"] = data[\"eventDate\"].str[:4].astype(int)"
      ],
      "metadata": {
        "id": "a2MlycZnYUjZ"
      },
      "execution_count": 7,
      "outputs": []
    },
    {
      "cell_type": "code",
      "source": [
        "sns.set(style='darkgrid', rc={'figure.figsize':(12,8)})"
      ],
      "metadata": {
        "id": "FmSNVOtQ0hmi"
      },
      "execution_count": 8,
      "outputs": []
    },
    {
      "cell_type": "code",
      "source": [
        "_ind_dens = data[data[\"measurementType\"]==\"Individual Density\"]\n",
        "_ind_dens[\"measurementValue\"] = _ind_dens.measurementValue.astype(float)\n",
        "_ind_dens.sort_values(by=\"eventDate\", inplace=True)\n",
        "_ind_dens[[\"measurementValue\",\"nYear\"]].groupby(\"nYear\").mean().plot.bar()\n",
        "plt.title(\"Mean Individual Density over years\")\n",
        "plt.xlabel(\"years\")\n",
        "plt.ylabel(\"mean density\");"
      ],
      "metadata": {
        "colab": {
          "base_uri": "https://localhost:8080/",
          "height": 735
        },
        "id": "Th0JqtMBxP_n",
        "outputId": "af262e2a-dfa1-4894-f1eb-3507583bfff4"
      },
      "execution_count": 9,
      "outputs": [
        {
          "output_type": "stream",
          "name": "stderr",
          "text": [
            "/usr/local/lib/python3.7/dist-packages/ipykernel_launcher.py:2: SettingWithCopyWarning: \n",
            "A value is trying to be set on a copy of a slice from a DataFrame.\n",
            "Try using .loc[row_indexer,col_indexer] = value instead\n",
            "\n",
            "See the caveats in the documentation: https://pandas.pydata.org/pandas-docs/stable/user_guide/indexing.html#returning-a-view-versus-a-copy\n",
            "  \n",
            "/usr/local/lib/python3.7/dist-packages/pandas/util/_decorators.py:311: SettingWithCopyWarning: \n",
            "A value is trying to be set on a copy of a slice from a DataFrame\n",
            "\n",
            "See the caveats in the documentation: https://pandas.pydata.org/pandas-docs/stable/user_guide/indexing.html#returning-a-view-versus-a-copy\n",
            "  return func(*args, **kwargs)\n"
          ]
        },
        {
          "output_type": "display_data",
          "data": {
            "text/plain": [
              "<Figure size 864x576 with 1 Axes>"
            ],
            "image/png": "[encoded data removed]"
          },
          "metadata": {}
        }
      ]
    },
    {
      "cell_type": "markdown",
      "source": [
        "From this plot we can see that \n",
        "+ the mean individual density over years reduced  significantly starting from 2001 untill it rebounded but to a lesser extent. This is interesting There might have been some efforts to save these kelps after their steep decline that lead to its rejuvenation. \n",
        "+ However, more recent records are missing."
      ],
      "metadata": {
        "id": "otkvkl0z04BG"
      }
    },
    {
      "cell_type": "markdown",
      "source": [
        "Now let us get back to where we started, we'll look again at the measurement types we have."
      ],
      "metadata": {
        "id": "Hynb5mo75obI"
      }
    },
    {
      "cell_type": "code",
      "source": [
        "data[\"measurementType\"].unique()"
      ],
      "metadata": {
        "colab": {
          "base_uri": "https://localhost:8080/"
        },
        "id": "4GTrqqg5yGRn",
        "outputId": "3ba318a8-5cad-4933-c38d-c02b87828e4d"
      },
      "execution_count": 10,
      "outputs": [
        {
          "output_type": "execute_result",
          "data": {
            "text/plain": [
              "array(['Individual Density',\n",
              "       'Proportion coverage mean of biological entity specified elsewhere',\n",
              "       'Proportion coverage standard deviation of biological entity specified elsewhere',\n",
              "       'Proportion coverage standard error of biological entity specified elsewhere',\n",
              "       'cover', 'relief', 'substrate', 'visibility'], dtype=object)"
            ]
          },
          "metadata": {},
          "execution_count": 10
        }
      ]
    },
    {
      "cell_type": "markdown",
      "source": [
        "### 2. Analysing `cover` values\n",
        "\n",
        "We are going to analyse `cover` values for this we'll do some hard work. We will see what we did later."
      ],
      "metadata": {
        "id": "k5eyIsuv5wKj"
      }
    },
    {
      "cell_type": "code",
      "source": [
        "_cov_data = data[data[\"measurementType\"]=='cover']"
      ],
      "metadata": {
        "id": "e4fWfkhq4HLN"
      },
      "execution_count": 11,
      "outputs": []
    },
    {
      "cell_type": "code",
      "source": [
        "l=[]\n",
        "for i in _cov_data[\"measurementValue\"]:\n",
        "  l.append({x.strip().split(\"%\")[1].strip():x.strip().split(\"%\")[0] for x in i.split('|')})"
      ],
      "metadata": {
        "id": "i1GHUHyG4hBZ"
      },
      "execution_count": 12,
      "outputs": []
    },
    {
      "cell_type": "code",
      "source": [
        "_new_cov = pd.DataFrame(l)"
      ],
      "metadata": {
        "id": "PAfS9jBu4lad"
      },
      "execution_count": 13,
      "outputs": []
    },
    {
      "cell_type": "code",
      "source": [
        "_new_cov"
      ],
      "metadata": {
        "colab": {
          "base_uri": "https://localhost:8080/",
          "height": 485
        },
        "id": "3-b4V1Me4uDI",
        "outputId": "68a3cd1d-4372-4374-f4fc-7138b0b4773d"
      },
      "execution_count": 14,
      "outputs": [
        {
          "output_type": "execute_result",
          "data": {
            "text/plain": [
              "     crustose coralline articulated coralline encrusting red red seaweed  \\\n",
              "0                  16.7                  10.0            3.3        46.7   \n",
              "1                  16.7                  10.0            3.3        46.7   \n",
              "2                  16.7                  10.0            3.3        46.7   \n",
              "3                  16.7                  10.0            3.3        46.7   \n",
              "4                  16.7                  10.0            3.3        46.7   \n",
              "...                 ...                   ...            ...         ...   \n",
              "3489               33.3                  10.0           26.7        20.0   \n",
              "3490               33.3                  10.0           26.7        20.0   \n",
              "3491               33.3                  10.0           26.7        20.0   \n",
              "3492               33.3                  10.0           26.7        20.0   \n",
              "3493               33.3                  10.0           26.7        20.0   \n",
              "\n",
              "     brown seaweed  none other brown seaweed sessile invertebrates  \\\n",
              "0              6.7  16.7                 NaN                   NaN   \n",
              "1              6.7  16.7                 NaN                   NaN   \n",
              "2              6.7  16.7                 NaN                   NaN   \n",
              "3              6.7  16.7                 NaN                   NaN   \n",
              "4              6.7  16.7                 NaN                   NaN   \n",
              "...            ...   ...                 ...                   ...   \n",
              "3489           6.7   NaN                 3.3                   NaN   \n",
              "3490           6.7   NaN                 3.3                   NaN   \n",
              "3491           6.7   NaN                 3.3                   NaN   \n",
              "3492           6.7   NaN                 3.3                   NaN   \n",
              "3493           6.7   NaN                 3.3                   NaN   \n",
              "\n",
              "     mobile invertebrates green seaweed seagrasses  \n",
              "0                     NaN           NaN        NaN  \n",
              "1                     NaN           NaN        NaN  \n",
              "2                     NaN           NaN        NaN  \n",
              "3                     NaN           NaN        NaN  \n",
              "4                     NaN           NaN        NaN  \n",
              "...                   ...           ...        ...  \n",
              "3489                  NaN           NaN        NaN  \n",
              "3490                  NaN           NaN        NaN  \n",
              "3491                  NaN           NaN        NaN  \n",
              "3492                  NaN           NaN        NaN  \n",
              "3493                  NaN           NaN        NaN  \n",
              "\n",
              "[3494 rows x 11 columns]"
            ],
            "text/html": [
              "\n",
              "  <div id=\"df-4d0058fd-562b-4feb-9cb1-f975fd90385e\">\n",
              "    <div class=\"colab-df-container\">\n",
              "      <div>\n",
              "<style scoped>\n",
              "    .dataframe tbody tr th:only-of-type {\n",
              "        vertical-align: middle;\n",
              "    }\n",
              "\n",
              "    .dataframe tbody tr th {\n",
              "        vertical-align: top;\n",
              "    }\n",
              "\n",
              "    .dataframe thead th {\n",
              "        text-align: right;\n",
              "    }\n",
              "</style>\n",
              "<table border=\"1\" class=\"dataframe\">\n",
              "  <thead>\n",
              "    <tr style=\"text-align: right;\">\n",
              "      <th></th>\n",
              "      <th>crustose coralline</th>\n",
              "      <th>articulated coralline</th>\n",
              "      <th>encrusting red</th>\n",
              "      <th>red seaweed</th>\n",
              "      <th>brown seaweed</th>\n",
              "      <th>none</th>\n",
              "      <th>other brown seaweed</th>\n",
              "      <th>sessile invertebrates</th>\n",
              "      <th>mobile invertebrates</th>\n",
              "      <th>green seaweed</th>\n",
              "      <th>seagrasses</th>\n",
              "    </tr>\n",
              "  </thead>\n",
              "  <tbody>\n",
              "    <tr>\n",
              "      <th>0</th>\n",
              "      <td>16.7</td>\n",
              "      <td>10.0</td>\n",
              "      <td>3.3</td>\n",
              "      <td>46.7</td>\n",
              "      <td>6.7</td>\n",
              "      <td>16.7</td>\n",
              "      <td>NaN</td>\n",
              "      <td>NaN</td>\n",
              "      <td>NaN</td>\n",
              "      <td>NaN</td>\n",
              "      <td>NaN</td>\n",
              "    </tr>\n",
              "    <tr>\n",
              "      <th>1</th>\n",
              "      <td>16.7</td>\n",
              "      <td>10.0</td>\n",
              "      <td>3.3</td>\n",
              "      <td>46.7</td>\n",
              "      <td>6.7</td>\n",
              "      <td>16.7</td>\n",
              "      <td>NaN</td>\n",
              "      <td>NaN</td>\n",
              "      <td>NaN</td>\n",
              "      <td>NaN</td>\n",
              "      <td>NaN</td>\n",
              "    </tr>\n",
              "    <tr>\n",
              "      <th>2</th>\n",
              "      <td>16.7</td>\n",
              "      <td>10.0</td>\n",
              "      <td>3.3</td>\n",
              "      <td>46.7</td>\n",
              "      <td>6.7</td>\n",
              "      <td>16.7</td>\n",
              "      <td>NaN</td>\n",
              "      <td>NaN</td>\n",
              "      <td>NaN</td>\n",
              "      <td>NaN</td>\n",
              "      <td>NaN</td>\n",
              "    </tr>\n",
              "    <tr>\n",
              "      <th>3</th>\n",
              "      <td>16.7</td>\n",
              "      <td>10.0</td>\n",
              "      <td>3.3</td>\n",
              "      <td>46.7</td>\n",
              "      <td>6.7</td>\n",
              "      <td>16.7</td>\n",
              "      <td>NaN</td>\n",
              "      <td>NaN</td>\n",
              "      <td>NaN</td>\n",
              "      <td>NaN</td>\n",
              "      <td>NaN</td>\n",
              "    </tr>\n",
              "    <tr>\n",
              "      <th>4</th>\n",
              "      <td>16.7</td>\n",
              "      <td>10.0</td>\n",
              "      <td>3.3</td>\n",
              "      <td>46.7</td>\n",
              "      <td>6.7</td>\n",
              "      <td>16.7</td>\n",
              "      <td>NaN</td>\n",
              "      <td>NaN</td>\n",
              "      <td>NaN</td>\n",
              "      <td>NaN</td>\n",
              "      <td>NaN</td>\n",
              "    </tr>\n",
              "    <tr>\n",
              "      <th>...</th>\n",
              "      <td>...</td>\n",
              "      <td>...</td>\n",
              "      <td>...</td>\n",
              "      <td>...</td>\n",
              "      <td>...</td>\n",
              "      <td>...</td>\n",
              "      <td>...</td>\n",
              "      <td>...</td>\n",
              "      <td>...</td>\n",
              "      <td>...</td>\n",
              "      <td>...</td>\n",
              "    </tr>\n",
              "    <tr>\n",
              "      <th>3489</th>\n",
              "      <td>33.3</td>\n",
              "      <td>10.0</td>\n",
              "      <td>26.7</td>\n",
              "      <td>20.0</td>\n",
              "      <td>6.7</td>\n",
              "      <td>NaN</td>\n",
              "      <td>3.3</td>\n",
              "      <td>NaN</td>\n",
              "      <td>NaN</td>\n",
              "      <td>NaN</td>\n",
              "      <td>NaN</td>\n",
              "    </tr>\n",
              "    <tr>\n",
              "      <th>3490</th>\n",
              "      <td>33.3</td>\n",
              "      <td>10.0</td>\n",
              "      <td>26.7</td>\n",
              "      <td>20.0</td>\n",
              "      <td>6.7</td>\n",
              "      <td>NaN</td>\n",
              "      <td>3.3</td>\n",
              "      <td>NaN</td>\n",
              "      <td>NaN</td>\n",
              "      <td>NaN</td>\n",
              "      <td>NaN</td>\n",
              "    </tr>\n",
              "    <tr>\n",
              "      <th>3491</th>\n",
              "      <td>33.3</td>\n",
              "      <td>10.0</td>\n",
              "      <td>26.7</td>\n",
              "      <td>20.0</td>\n",
              "      <td>6.7</td>\n",
              "      <td>NaN</td>\n",
              "      <td>3.3</td>\n",
              "      <td>NaN</td>\n",
              "      <td>NaN</td>\n",
              "      <td>NaN</td>\n",
              "      <td>NaN</td>\n",
              "    </tr>\n",
              "    <tr>\n",
              "      <th>3492</th>\n",
              "      <td>33.3</td>\n",
              "      <td>10.0</td>\n",
              "      <td>26.7</td>\n",
              "      <td>20.0</td>\n",
              "      <td>6.7</td>\n",
              "      <td>NaN</td>\n",
              "      <td>3.3</td>\n",
              "      <td>NaN</td>\n",
              "      <td>NaN</td>\n",
              "      <td>NaN</td>\n",
              "      <td>NaN</td>\n",
              "    </tr>\n",
              "    <tr>\n",
              "      <th>3493</th>\n",
              "      <td>33.3</td>\n",
              "      <td>10.0</td>\n",
              "      <td>26.7</td>\n",
              "      <td>20.0</td>\n",
              "      <td>6.7</td>\n",
              "      <td>NaN</td>\n",
              "      <td>3.3</td>\n",
              "      <td>NaN</td>\n",
              "      <td>NaN</td>\n",
              "      <td>NaN</td>\n",
              "      <td>NaN</td>\n",
              "    </tr>\n",
              "  </tbody>\n",
              "</table>\n",
              "<p>3494 rows × 11 columns</p>\n",
              "</div>\n",
              "      <button class=\"colab-df-convert\" onclick=\"convertToInteractive('df-4d0058fd-562b-4feb-9cb1-f975fd90385e')\"\n",
              "              title=\"Convert this dataframe to an interactive table.\"\n",
              "              style=\"display:none;\">\n",
              "        \n",
              "  <svg xmlns=\"http://www.w3.org/2000/svg\" height=\"24px\"viewBox=\"0 0 24 24\"\n",
              "       width=\"24px\">\n",
              "    <path d=\"M0 0h24v24H0V0z\" fill=\"none\"/>\n",
              "    <path d=\"M18.56 5.44l.94 2.06.94-2.06 2.06-.94-2.06-.94-.94-2.06-.94 2.06-2.06.94zm-11 1L8.5 8.5l.94-2.06 2.06-.94-2.06-.94L8.5 2.5l-.94 2.06-2.06.94zm10 10l.94 2.06.94-2.06 2.06-.94-2.06-.94-.94-2.06-.94 2.06-2.06.94z\"/><path d=\"M17.41 7.96l-1.37-1.37c-.4-.4-.92-.59-1.43-.59-.52 0-1.04.2-1.43.59L10.3 9.45l-7.72 7.72c-.78.78-.78 2.05 0 2.83L4 21.41c.39.39.9.59 1.41.59.51 0 1.02-.2 1.41-.59l7.78-7.78 2.81-2.81c.8-.78.8-2.07 0-2.86zM5.41 20L4 18.59l7.72-7.72 1.47 1.35L5.41 20z\"/>\n",
              "  </svg>\n",
              "      </button>\n",
              "      \n",
              "  <style>\n",
              "    .colab-df-container {\n",
              "      display:flex;\n",
              "      flex-wrap:wrap;\n",
              "      gap: 12px;\n",
              "    }\n",
              "\n",
              "    .colab-df-convert {\n",
              "      background-color: #E8F0FE;\n",
              "      border: none;\n",
              "      border-radius: 50%;\n",
              "      cursor: pointer;\n",
              "      display: none;\n",
              "      fill: #1967D2;\n",
              "      height: 32px;\n",
              "      padding: 0 0 0 0;\n",
              "      width: 32px;\n",
              "    }\n",
              "\n",
              "    .colab-df-convert:hover {\n",
              "      background-color: #E2EBFA;\n",
              "      box-shadow: 0px 1px 2px rgba(60, 64, 67, 0.3), 0px 1px 3px 1px rgba(60, 64, 67, 0.15);\n",
              "      fill: #174EA6;\n",
              "    }\n",
              "\n",
              "    [theme=dark] .colab-df-convert {\n",
              "      background-color: #3B4455;\n",
              "      fill: #D2E3FC;\n",
              "    }\n",
              "\n",
              "    [theme=dark] .colab-df-convert:hover {\n",
              "      background-color: #434B5C;\n",
              "      box-shadow: 0px 1px 3px 1px rgba(0, 0, 0, 0.15);\n",
              "      filter: drop-shadow(0px 1px 2px rgba(0, 0, 0, 0.3));\n",
              "      fill: #FFFFFF;\n",
              "    }\n",
              "  </style>\n",
              "\n",
              "      <script>\n",
              "        const buttonEl =\n",
              "          document.querySelector('#df-4d0058fd-562b-4feb-9cb1-f975fd90385e button.colab-df-convert');\n",
              "        buttonEl.style.display =\n",
              "          google.colab.kernel.accessAllowed ? 'block' : 'none';\n",
              "\n",
              "        async function convertToInteractive(key) {\n",
              "          const element = document.querySelector('#df-4d0058fd-562b-4feb-9cb1-f975fd90385e');\n",
              "          const dataTable =\n",
              "            await google.colab.kernel.invokeFunction('convertToInteractive',\n",
              "                                                     [key], {});\n",
              "          if (!dataTable) return;\n",
              "\n",
              "          const docLinkHtml = 'Like what you see? Visit the ' +\n",
              "            '<a target=\"_blank\" href=https://colab.research.google.com/notebooks/data_table.ipynb>data table notebook</a>'\n",
              "            + ' to learn more about interactive tables.';\n",
              "          element.innerHTML = '';\n",
              "          dataTable['output_type'] = 'display_data';\n",
              "          await google.colab.output.renderOutput(dataTable, element);\n",
              "          const docLink = document.createElement('div');\n",
              "          docLink.innerHTML = docLinkHtml;\n",
              "          element.appendChild(docLink);\n",
              "        }\n",
              "      </script>\n",
              "    </div>\n",
              "  </div>\n",
              "  "
            ]
          },
          "metadata": {},
          "execution_count": 14
        }
      ]
    },
    {
      "cell_type": "markdown",
      "source": [
        "What we did in the previous 4 blocks of code can be summarised as:\n",
        "+ we got all data which had `cover` as `measurementType`\n",
        "+ we then saw that the `measurementValue` was a string with percentage composition seprated by `\"|\"`\n",
        "+ so we sperated all these values and converted into a dictionary containing keys as the parameter and the percentage value of the parameter as the key-value.\n",
        "+ we did this for every record and converted it into a kind of JSON data\n",
        "+ from this JSON data we made a pandas dataframe"
      ],
      "metadata": {
        "id": "zwDgbDH-413N"
      }
    },
    {
      "cell_type": "markdown",
      "source": [
        "> Now let us clean our data to draw a pie chart of average composition for a cover record"
      ],
      "metadata": {
        "id": "_jPyZ02j6A5r"
      }
    },
    {
      "cell_type": "code",
      "source": [
        "# we will fit in the mean values of parameters in the last row of the dataframe\n",
        "_new_cov.loc[578] = _new_cov.astype(float).mean()"
      ],
      "metadata": {
        "id": "AlE-uWF741ej"
      },
      "execution_count": 15,
      "outputs": []
    },
    {
      "cell_type": "code",
      "source": [
        "# we will now scale every column's mean to fit in between 100 to draw a pie chart\n",
        "sum = _new_cov.loc[578].sum()\n",
        "for i in _new_cov.columns:\n",
        "  _new_cov.loc[578,i]=_new_cov.loc[578,i]/sum*100"
      ],
      "metadata": {
        "id": "AgRpxp_i6cwU"
      },
      "execution_count": 16,
      "outputs": []
    },
    {
      "cell_type": "code",
      "source": [
        "_new_cov.loc[578]"
      ],
      "metadata": {
        "colab": {
          "base_uri": "https://localhost:8080/"
        },
        "id": "AZbK5eZo781-",
        "outputId": "49993599-9dbc-4ad0-f20b-119a23662c80"
      },
      "execution_count": 17,
      "outputs": [
        {
          "output_type": "execute_result",
          "data": {
            "text/plain": [
              "crustose coralline       11.094895\n",
              "articulated coralline    12.676938\n",
              "encrusting red            6.016603\n",
              "red seaweed              15.277517\n",
              "brown seaweed             6.275778\n",
              "none                     12.161465\n",
              "other brown seaweed      11.215886\n",
              "sessile invertebrates     7.527687\n",
              "mobile invertebrates       2.50773\n",
              "green seaweed             5.546117\n",
              "seagrasses                9.699385\n",
              "Name: 578, dtype: object"
            ]
          },
          "metadata": {},
          "execution_count": 17
        }
      ]
    },
    {
      "cell_type": "markdown",
      "source": [
        "This looks good now. Let us draw a pie chart then."
      ],
      "metadata": {
        "id": "XooPje9w8Hkd"
      }
    },
    {
      "cell_type": "code",
      "source": [
        "_new_cov.loc[578].plot.pie(title=\"Mean Composition of cover records\", autopct=\"%2.2f%%\", explode=[0.03]*len(_new_cov.columns));"
      ],
      "metadata": {
        "colab": {
          "base_uri": "https://localhost:8080/",
          "height": 482
        },
        "id": "ZEHHVnpm8O1-",
        "outputId": "c10498c0-2208-4add-f3e3-908461c74b93"
      },
      "execution_count": 18,
      "outputs": [
        {
          "output_type": "display_data",
          "data": {
            "text/plain": [
              "<Figure size 864x576 with 1 Axes>"
            ],
            "image/png": "[encoded data removed]"
          },
          "metadata": {}
        }
      ]
    },
    {
      "cell_type": "markdown",
      "source": [
        "We can see that most of the records had `red seaweed` as the `cover` with 15.32%, closely followed by `none` or no cover with 14.81%."
      ],
      "metadata": {
        "id": "Y1AJxf8g9pQh"
      }
    },
    {
      "cell_type": "markdown",
      "source": [
        "Now let us once again look at the unique parameter values we have."
      ],
      "metadata": {
        "id": "V7T6ThG8hcF0"
      }
    },
    {
      "cell_type": "code",
      "source": [
        "data[\"measurementType\"].unique()"
      ],
      "metadata": {
        "id": "chvGuamD9orD",
        "colab": {
          "base_uri": "https://localhost:8080/"
        },
        "outputId": "355b6508-be45-4b8a-dc6c-269c210c694d"
      },
      "execution_count": 19,
      "outputs": [
        {
          "output_type": "execute_result",
          "data": {
            "text/plain": [
              "array(['Individual Density',\n",
              "       'Proportion coverage mean of biological entity specified elsewhere',\n",
              "       'Proportion coverage standard deviation of biological entity specified elsewhere',\n",
              "       'Proportion coverage standard error of biological entity specified elsewhere',\n",
              "       'cover', 'relief', 'substrate', 'visibility'], dtype=object)"
            ]
          },
          "metadata": {},
          "execution_count": 19
        }
      ]
    },
    {
      "cell_type": "markdown",
      "source": [
        "### 3.  `relief` records composition analysis\n",
        "\n",
        "Now let us analyse the composition of `relief` records."
      ],
      "metadata": {
        "id": "TuPa_d45qN2x"
      }
    },
    {
      "cell_type": "code",
      "source": [
        "data[data[\"measurementType\"]==\"relief\"][\"measurementValue\"]"
      ],
      "metadata": {
        "colab": {
          "base_uri": "https://localhost:8080/"
        },
        "id": "epxn1RGqhndW",
        "outputId": "3a135703-7d9e-47d1-8e49-a7d00fa61355"
      },
      "execution_count": 20,
      "outputs": [
        {
          "output_type": "execute_result",
          "data": {
            "text/plain": [
              "1912                     100.0% > 10cm - 1m\n",
              "1916                     100.0% > 10cm - 1m\n",
              "1920                     100.0% > 10cm - 1m\n",
              "1924                     100.0% > 10cm - 1m\n",
              "1928                     100.0% > 10cm - 1m\n",
              "                        ...                \n",
              "205979    96.7% > 10cm - 1m | 3.3% 0 - 10cm\n",
              "205983    96.7% > 10cm - 1m | 3.3% 0 - 10cm\n",
              "205987    96.7% > 10cm - 1m | 3.3% 0 - 10cm\n",
              "205991    96.7% > 10cm - 1m | 3.3% 0 - 10cm\n",
              "205995    96.7% > 10cm - 1m | 3.3% 0 - 10cm\n",
              "Name: measurementValue, Length: 3494, dtype: object"
            ]
          },
          "metadata": {},
          "execution_count": 20
        }
      ]
    },
    {
      "cell_type": "markdown",
      "source": [
        "We can see that the `relief` values have a percentage value for a particular length range.\n",
        "\n",
        "Now we will analyse `relief` as we did for `cover` but in a different manner."
      ],
      "metadata": {
        "id": "T7q83n5Tiypt"
      }
    },
    {
      "cell_type": "code",
      "source": [
        "_rel_data = data[data[\"measurementType\"]==\"relief\"]\n",
        "_rel_data.sort_values(by=\"eventDate\", inplace=True)"
      ],
      "metadata": {
        "id": "CTOYUnyIjTSM",
        "colab": {
          "base_uri": "https://localhost:8080/"
        },
        "outputId": "20cb3d77-9e5a-41b5-87a6-5a4dc555cdd1"
      },
      "execution_count": 21,
      "outputs": [
        {
          "output_type": "stream",
          "name": "stderr",
          "text": [
            "/usr/local/lib/python3.7/dist-packages/pandas/util/_decorators.py:311: SettingWithCopyWarning: \n",
            "A value is trying to be set on a copy of a slice from a DataFrame\n",
            "\n",
            "See the caveats in the documentation: https://pandas.pydata.org/pandas-docs/stable/user_guide/indexing.html#returning-a-view-versus-a-copy\n",
            "  return func(*args, **kwargs)\n"
          ]
        }
      ]
    },
    {
      "cell_type": "code",
      "source": [
        "# let us first create an empty dataframe, we will dress up our organised data there\n",
        "_rel_df = pd.DataFrame()\n",
        "\n",
        "# since each relief record is a string with data values seperated by \"|\" we will organise data into our newly created dataframe\n",
        "for i in _rel_data[\"measurementValue\"]:\n",
        "  _rel_df=_rel_df.append({x.strip().split(\"%\")[1].strip():x.strip().split(\"%\")[0] for x in i.split('|')}, ignore_index=True)"
      ],
      "metadata": {
        "id": "6rCCP4E5ja48"
      },
      "execution_count": 22,
      "outputs": []
    },
    {
      "cell_type": "code",
      "source": [
        "# let us look at the organised data\n",
        "_rel_df"
      ],
      "metadata": {
        "colab": {
          "base_uri": "https://localhost:8080/",
          "height": 423
        },
        "id": "Zy7IZI3pmFg1",
        "outputId": "52d88e93-664a-41dd-a97c-3a0a942a82c0"
      },
      "execution_count": 23,
      "outputs": [
        {
          "output_type": "execute_result",
          "data": {
            "text/plain": [
              "     > 10cm - 1m 0 - 10cm > 1m - 2m > 2m\n",
              "0           83.3     16.7       NaN  NaN\n",
              "1           83.3     16.7       NaN  NaN\n",
              "2           83.3     16.7       NaN  NaN\n",
              "3           83.3     16.7       NaN  NaN\n",
              "4           83.3     16.7       NaN  NaN\n",
              "...          ...      ...       ...  ...\n",
              "3489        96.7      NaN       3.3  NaN\n",
              "3490        96.7      NaN       3.3  NaN\n",
              "3491        96.7      NaN       3.3  NaN\n",
              "3492        96.7      NaN       3.3  NaN\n",
              "3493        96.7      NaN       3.3  NaN\n",
              "\n",
              "[3494 rows x 4 columns]"
            ],
            "text/html": [
              "\n",
              "  <div id=\"df-20f55093-35c1-45d6-aab4-5c8c7e8f5bc1\">\n",
              "    <div class=\"colab-df-container\">\n",
              "      <div>\n",
              "<style scoped>\n",
              "    .dataframe tbody tr th:only-of-type {\n",
              "        vertical-align: middle;\n",
              "    }\n",
              "\n",
              "    .dataframe tbody tr th {\n",
              "        vertical-align: top;\n",
              "    }\n",
              "\n",
              "    .dataframe thead th {\n",
              "        text-align: right;\n",
              "    }\n",
              "</style>\n",
              "<table border=\"1\" class=\"dataframe\">\n",
              "  <thead>\n",
              "    <tr style=\"text-align: right;\">\n",
              "      <th></th>\n",
              "      <th>&gt; 10cm - 1m</th>\n",
              "      <th>0 - 10cm</th>\n",
              "      <th>&gt; 1m - 2m</th>\n",
              "      <th>&gt; 2m</th>\n",
              "    </tr>\n",
              "  </thead>\n",
              "  <tbody>\n",
              "    <tr>\n",
              "      <th>0</th>\n",
              "      <td>83.3</td>\n",
              "      <td>16.7</td>\n",
              "      <td>NaN</td>\n",
              "      <td>NaN</td>\n",
              "    </tr>\n",
              "    <tr>\n",
              "      <th>1</th>\n",
              "      <td>83.3</td>\n",
              "      <td>16.7</td>\n",
              "      <td>NaN</td>\n",
              "      <td>NaN</td>\n",
              "    </tr>\n",
              "    <tr>\n",
              "      <th>2</th>\n",
              "      <td>83.3</td>\n",
              "      <td>16.7</td>\n",
              "      <td>NaN</td>\n",
              "      <td>NaN</td>\n",
              "    </tr>\n",
              "    <tr>\n",
              "      <th>3</th>\n",
              "      <td>83.3</td>\n",
              "      <td>16.7</td>\n",
              "      <td>NaN</td>\n",
              "      <td>NaN</td>\n",
              "    </tr>\n",
              "    <tr>\n",
              "      <th>4</th>\n",
              "      <td>83.3</td>\n",
              "      <td>16.7</td>\n",
              "      <td>NaN</td>\n",
              "      <td>NaN</td>\n",
              "    </tr>\n",
              "    <tr>\n",
              "      <th>...</th>\n",
              "      <td>...</td>\n",
              "      <td>...</td>\n",
              "      <td>...</td>\n",
              "      <td>...</td>\n",
              "    </tr>\n",
              "    <tr>\n",
              "      <th>3489</th>\n",
              "      <td>96.7</td>\n",
              "      <td>NaN</td>\n",
              "      <td>3.3</td>\n",
              "      <td>NaN</td>\n",
              "    </tr>\n",
              "    <tr>\n",
              "      <th>3490</th>\n",
              "      <td>96.7</td>\n",
              "      <td>NaN</td>\n",
              "      <td>3.3</td>\n",
              "      <td>NaN</td>\n",
              "    </tr>\n",
              "    <tr>\n",
              "      <th>3491</th>\n",
              "      <td>96.7</td>\n",
              "      <td>NaN</td>\n",
              "      <td>3.3</td>\n",
              "      <td>NaN</td>\n",
              "    </tr>\n",
              "    <tr>\n",
              "      <th>3492</th>\n",
              "      <td>96.7</td>\n",
              "      <td>NaN</td>\n",
              "      <td>3.3</td>\n",
              "      <td>NaN</td>\n",
              "    </tr>\n",
              "    <tr>\n",
              "      <th>3493</th>\n",
              "      <td>96.7</td>\n",
              "      <td>NaN</td>\n",
              "      <td>3.3</td>\n",
              "      <td>NaN</td>\n",
              "    </tr>\n",
              "  </tbody>\n",
              "</table>\n",
              "<p>3494 rows × 4 columns</p>\n",
              "</div>\n",
              "      <button class=\"colab-df-convert\" onclick=\"convertToInteractive('df-20f55093-35c1-45d6-aab4-5c8c7e8f5bc1')\"\n",
              "              title=\"Convert this dataframe to an interactive table.\"\n",
              "              style=\"display:none;\">\n",
              "        \n",
              "  <svg xmlns=\"http://www.w3.org/2000/svg\" height=\"24px\"viewBox=\"0 0 24 24\"\n",
              "       width=\"24px\">\n",
              "    <path d=\"M0 0h24v24H0V0z\" fill=\"none\"/>\n",
              "    <path d=\"M18.56 5.44l.94 2.06.94-2.06 2.06-.94-2.06-.94-.94-2.06-.94 2.06-2.06.94zm-11 1L8.5 8.5l.94-2.06 2.06-.94-2.06-.94L8.5 2.5l-.94 2.06-2.06.94zm10 10l.94 2.06.94-2.06 2.06-.94-2.06-.94-.94-2.06-.94 2.06-2.06.94z\"/><path d=\"M17.41 7.96l-1.37-1.37c-.4-.4-.92-.59-1.43-.59-.52 0-1.04.2-1.43.59L10.3 9.45l-7.72 7.72c-.78.78-.78 2.05 0 2.83L4 21.41c.39.39.9.59 1.41.59.51 0 1.02-.2 1.41-.59l7.78-7.78 2.81-2.81c.8-.78.8-2.07 0-2.86zM5.41 20L4 18.59l7.72-7.72 1.47 1.35L5.41 20z\"/>\n",
              "  </svg>\n",
              "      </button>\n",
              "      \n",
              "  <style>\n",
              "    .colab-df-container {\n",
              "      display:flex;\n",
              "      flex-wrap:wrap;\n",
              "      gap: 12px;\n",
              "    }\n",
              "\n",
              "    .colab-df-convert {\n",
              "      background-color: #E8F0FE;\n",
              "      border: none;\n",
              "      border-radius: 50%;\n",
              "      cursor: pointer;\n",
              "      display: none;\n",
              "      fill: #1967D2;\n",
              "      height: 32px;\n",
              "      padding: 0 0 0 0;\n",
              "      width: 32px;\n",
              "    }\n",
              "\n",
              "    .colab-df-convert:hover {\n",
              "      background-color: #E2EBFA;\n",
              "      box-shadow: 0px 1px 2px rgba(60, 64, 67, 0.3), 0px 1px 3px 1px rgba(60, 64, 67, 0.15);\n",
              "      fill: #174EA6;\n",
              "    }\n",
              "\n",
              "    [theme=dark] .colab-df-convert {\n",
              "      background-color: #3B4455;\n",
              "      fill: #D2E3FC;\n",
              "    }\n",
              "\n",
              "    [theme=dark] .colab-df-convert:hover {\n",
              "      background-color: #434B5C;\n",
              "      box-shadow: 0px 1px 3px 1px rgba(0, 0, 0, 0.15);\n",
              "      filter: drop-shadow(0px 1px 2px rgba(0, 0, 0, 0.3));\n",
              "      fill: #FFFFFF;\n",
              "    }\n",
              "  </style>\n",
              "\n",
              "      <script>\n",
              "        const buttonEl =\n",
              "          document.querySelector('#df-20f55093-35c1-45d6-aab4-5c8c7e8f5bc1 button.colab-df-convert');\n",
              "        buttonEl.style.display =\n",
              "          google.colab.kernel.accessAllowed ? 'block' : 'none';\n",
              "\n",
              "        async function convertToInteractive(key) {\n",
              "          const element = document.querySelector('#df-20f55093-35c1-45d6-aab4-5c8c7e8f5bc1');\n",
              "          const dataTable =\n",
              "            await google.colab.kernel.invokeFunction('convertToInteractive',\n",
              "                                                     [key], {});\n",
              "          if (!dataTable) return;\n",
              "\n",
              "          const docLinkHtml = 'Like what you see? Visit the ' +\n",
              "            '<a target=\"_blank\" href=https://colab.research.google.com/notebooks/data_table.ipynb>data table notebook</a>'\n",
              "            + ' to learn more about interactive tables.';\n",
              "          element.innerHTML = '';\n",
              "          dataTable['output_type'] = 'display_data';\n",
              "          await google.colab.output.renderOutput(dataTable, element);\n",
              "          const docLink = document.createElement('div');\n",
              "          docLink.innerHTML = docLinkHtml;\n",
              "          element.appendChild(docLink);\n",
              "        }\n",
              "      </script>\n",
              "    </div>\n",
              "  </div>\n",
              "  "
            ]
          },
          "metadata": {},
          "execution_count": 23
        }
      ]
    },
    {
      "cell_type": "markdown",
      "source": [
        "We have got some NaNs in the data, which we seriuously don't like at all. Now we will replace all the NaNs with 0.0 as none means 0%."
      ],
      "metadata": {
        "id": "l_YQSboUnqO2"
      }
    },
    {
      "cell_type": "code",
      "source": [
        "_rel_df.fillna(0.0, inplace=True)"
      ],
      "metadata": {
        "id": "24XBib70nuxu"
      },
      "execution_count": 24,
      "outputs": []
    },
    {
      "cell_type": "code",
      "source": [
        "_rel_df"
      ],
      "metadata": {
        "colab": {
          "base_uri": "https://localhost:8080/",
          "height": 423
        },
        "id": "X46ZEmmrnzgU",
        "outputId": "81757301-6ade-4b6a-a096-23b3f5803c66"
      },
      "execution_count": 25,
      "outputs": [
        {
          "output_type": "execute_result",
          "data": {
            "text/plain": [
              "     > 10cm - 1m 0 - 10cm > 1m - 2m > 2m\n",
              "0           83.3     16.7       0.0  0.0\n",
              "1           83.3     16.7       0.0  0.0\n",
              "2           83.3     16.7       0.0  0.0\n",
              "3           83.3     16.7       0.0  0.0\n",
              "4           83.3     16.7       0.0  0.0\n",
              "...          ...      ...       ...  ...\n",
              "3489        96.7      0.0       3.3  0.0\n",
              "3490        96.7      0.0       3.3  0.0\n",
              "3491        96.7      0.0       3.3  0.0\n",
              "3492        96.7      0.0       3.3  0.0\n",
              "3493        96.7      0.0       3.3  0.0\n",
              "\n",
              "[3494 rows x 4 columns]"
            ],
            "text/html": [
              "\n",
              "  <div id=\"df-6cb91466-ae63-45fe-90c4-846b752a05ee\">\n",
              "    <div class=\"colab-df-container\">\n",
              "      <div>\n",
              "<style scoped>\n",
              "    .dataframe tbody tr th:only-of-type {\n",
              "        vertical-align: middle;\n",
              "    }\n",
              "\n",
              "    .dataframe tbody tr th {\n",
              "        vertical-align: top;\n",
              "    }\n",
              "\n",
              "    .dataframe thead th {\n",
              "        text-align: right;\n",
              "    }\n",
              "</style>\n",
              "<table border=\"1\" class=\"dataframe\">\n",
              "  <thead>\n",
              "    <tr style=\"text-align: right;\">\n",
              "      <th></th>\n",
              "      <th>&gt; 10cm - 1m</th>\n",
              "      <th>0 - 10cm</th>\n",
              "      <th>&gt; 1m - 2m</th>\n",
              "      <th>&gt; 2m</th>\n",
              "    </tr>\n",
              "  </thead>\n",
              "  <tbody>\n",
              "    <tr>\n",
              "      <th>0</th>\n",
              "      <td>83.3</td>\n",
              "      <td>16.7</td>\n",
              "      <td>0.0</td>\n",
              "      <td>0.0</td>\n",
              "    </tr>\n",
              "    <tr>\n",
              "      <th>1</th>\n",
              "      <td>83.3</td>\n",
              "      <td>16.7</td>\n",
              "      <td>0.0</td>\n",
              "      <td>0.0</td>\n",
              "    </tr>\n",
              "    <tr>\n",
              "      <th>2</th>\n",
              "      <td>83.3</td>\n",
              "      <td>16.7</td>\n",
              "      <td>0.0</td>\n",
              "      <td>0.0</td>\n",
              "    </tr>\n",
              "    <tr>\n",
              "      <th>3</th>\n",
              "      <td>83.3</td>\n",
              "      <td>16.7</td>\n",
              "      <td>0.0</td>\n",
              "      <td>0.0</td>\n",
              "    </tr>\n",
              "    <tr>\n",
              "      <th>4</th>\n",
              "      <td>83.3</td>\n",
              "      <td>16.7</td>\n",
              "      <td>0.0</td>\n",
              "      <td>0.0</td>\n",
              "    </tr>\n",
              "    <tr>\n",
              "      <th>...</th>\n",
              "      <td>...</td>\n",
              "      <td>...</td>\n",
              "      <td>...</td>\n",
              "      <td>...</td>\n",
              "    </tr>\n",
              "    <tr>\n",
              "      <th>3489</th>\n",
              "      <td>96.7</td>\n",
              "      <td>0.0</td>\n",
              "      <td>3.3</td>\n",
              "      <td>0.0</td>\n",
              "    </tr>\n",
              "    <tr>\n",
              "      <th>3490</th>\n",
              "      <td>96.7</td>\n",
              "      <td>0.0</td>\n",
              "      <td>3.3</td>\n",
              "      <td>0.0</td>\n",
              "    </tr>\n",
              "    <tr>\n",
              "      <th>3491</th>\n",
              "      <td>96.7</td>\n",
              "      <td>0.0</td>\n",
              "      <td>3.3</td>\n",
              "      <td>0.0</td>\n",
              "    </tr>\n",
              "    <tr>\n",
              "      <th>3492</th>\n",
              "      <td>96.7</td>\n",
              "      <td>0.0</td>\n",
              "      <td>3.3</td>\n",
              "      <td>0.0</td>\n",
              "    </tr>\n",
              "    <tr>\n",
              "      <th>3493</th>\n",
              "      <td>96.7</td>\n",
              "      <td>0.0</td>\n",
              "      <td>3.3</td>\n",
              "      <td>0.0</td>\n",
              "    </tr>\n",
              "  </tbody>\n",
              "</table>\n",
              "<p>3494 rows × 4 columns</p>\n",
              "</div>\n",
              "      <button class=\"colab-df-convert\" onclick=\"convertToInteractive('df-6cb91466-ae63-45fe-90c4-846b752a05ee')\"\n",
              "              title=\"Convert this dataframe to an interactive table.\"\n",
              "              style=\"display:none;\">\n",
              "        \n",
              "  <svg xmlns=\"http://www.w3.org/2000/svg\" height=\"24px\"viewBox=\"0 0 24 24\"\n",
              "       width=\"24px\">\n",
              "    <path d=\"M0 0h24v24H0V0z\" fill=\"none\"/>\n",
              "    <path d=\"M18.56 5.44l.94 2.06.94-2.06 2.06-.94-2.06-.94-.94-2.06-.94 2.06-2.06.94zm-11 1L8.5 8.5l.94-2.06 2.06-.94-2.06-.94L8.5 2.5l-.94 2.06-2.06.94zm10 10l.94 2.06.94-2.06 2.06-.94-2.06-.94-.94-2.06-.94 2.06-2.06.94z\"/><path d=\"M17.41 7.96l-1.37-1.37c-.4-.4-.92-.59-1.43-.59-.52 0-1.04.2-1.43.59L10.3 9.45l-7.72 7.72c-.78.78-.78 2.05 0 2.83L4 21.41c.39.39.9.59 1.41.59.51 0 1.02-.2 1.41-.59l7.78-7.78 2.81-2.81c.8-.78.8-2.07 0-2.86zM5.41 20L4 18.59l7.72-7.72 1.47 1.35L5.41 20z\"/>\n",
              "  </svg>\n",
              "      </button>\n",
              "      \n",
              "  <style>\n",
              "    .colab-df-container {\n",
              "      display:flex;\n",
              "      flex-wrap:wrap;\n",
              "      gap: 12px;\n",
              "    }\n",
              "\n",
              "    .colab-df-convert {\n",
              "      background-color: #E8F0FE;\n",
              "      border: none;\n",
              "      border-radius: 50%;\n",
              "      cursor: pointer;\n",
              "      display: none;\n",
              "      fill: #1967D2;\n",
              "      height: 32px;\n",
              "      padding: 0 0 0 0;\n",
              "      width: 32px;\n",
              "    }\n",
              "\n",
              "    .colab-df-convert:hover {\n",
              "      background-color: #E2EBFA;\n",
              "      box-shadow: 0px 1px 2px rgba(60, 64, 67, 0.3), 0px 1px 3px 1px rgba(60, 64, 67, 0.15);\n",
              "      fill: #174EA6;\n",
              "    }\n",
              "\n",
              "    [theme=dark] .colab-df-convert {\n",
              "      background-color: #3B4455;\n",
              "      fill: #D2E3FC;\n",
              "    }\n",
              "\n",
              "    [theme=dark] .colab-df-convert:hover {\n",
              "      background-color: #434B5C;\n",
              "      box-shadow: 0px 1px 3px 1px rgba(0, 0, 0, 0.15);\n",
              "      filter: drop-shadow(0px 1px 2px rgba(0, 0, 0, 0.3));\n",
              "      fill: #FFFFFF;\n",
              "    }\n",
              "  </style>\n",
              "\n",
              "      <script>\n",
              "        const buttonEl =\n",
              "          document.querySelector('#df-6cb91466-ae63-45fe-90c4-846b752a05ee button.colab-df-convert');\n",
              "        buttonEl.style.display =\n",
              "          google.colab.kernel.accessAllowed ? 'block' : 'none';\n",
              "\n",
              "        async function convertToInteractive(key) {\n",
              "          const element = document.querySelector('#df-6cb91466-ae63-45fe-90c4-846b752a05ee');\n",
              "          const dataTable =\n",
              "            await google.colab.kernel.invokeFunction('convertToInteractive',\n",
              "                                                     [key], {});\n",
              "          if (!dataTable) return;\n",
              "\n",
              "          const docLinkHtml = 'Like what you see? Visit the ' +\n",
              "            '<a target=\"_blank\" href=https://colab.research.google.com/notebooks/data_table.ipynb>data table notebook</a>'\n",
              "            + ' to learn more about interactive tables.';\n",
              "          element.innerHTML = '';\n",
              "          dataTable['output_type'] = 'display_data';\n",
              "          await google.colab.output.renderOutput(dataTable, element);\n",
              "          const docLink = document.createElement('div');\n",
              "          docLink.innerHTML = docLinkHtml;\n",
              "          element.appendChild(docLink);\n",
              "        }\n",
              "      </script>\n",
              "    </div>\n",
              "  </div>\n",
              "  "
            ]
          },
          "metadata": {},
          "execution_count": 25
        }
      ]
    },
    {
      "cell_type": "markdown",
      "source": [
        "Looks good! Now let us plot an `areaplot` from this data."
      ],
      "metadata": {
        "id": "eImBaSLhog7Z"
      }
    },
    {
      "cell_type": "code",
      "source": [
        "_rel_df = _rel_df.astype(float)\n",
        "ax = _rel_df.plot.area()\n",
        "plt.xlabel(\"years\")\n",
        "plt.ylabel(\"percentage\")\n",
        "plt.xticks(np.arange(0,len(_rel_data[\"eventDate\"]), len(_rel_data[\"eventDate\"])/len(_rel_data[\"eventDate\"].unique())),_rel_data[\"eventDate\"].unique(), rotation=45)\n",
        "plt.title(\"composition of relief records\");"
      ],
      "metadata": {
        "colab": {
          "base_uri": "https://localhost:8080/",
          "height": 561
        },
        "id": "-1Uix8bCozVE",
        "outputId": "73645ff9-fe74-46ab-bf6e-75ca3dd671ba"
      },
      "execution_count": 26,
      "outputs": [
        {
          "output_type": "display_data",
          "data": {
            "text/plain": [
              "<Figure size 864x576 with 1 Axes>"
            ],
            "image/png": "[encoded data removed]"
          },
          "metadata": {}
        }
      ]
    },
    {
      "cell_type": "markdown",
      "source": [
        "From this plot, we can conclude that:\n",
        "+ almost all observations have `> 10cm - 1m` length in the most proportion.\n",
        "+ initially around July-early Aug 2018 records of length `> 1m - 2m` and `0 - 10cm` did exist but have since either declined or appeared not often.\n",
        "+ we see an unexpected peak for `> 1m - 2m` around early december 2019, which might be record-specific spike."
      ],
      "metadata": {
        "id": "wGRSng5IpekK"
      }
    },
    {
      "cell_type": "markdown",
      "source": [
        "### 4. `substrate` composition in records\n",
        "\n",
        "Substrate is the material that rests at the bottom of a stream. Stream substrate can affect the life found within the stream habitat. We will first visualize the `substrate` records as we did for `relief` and then bring out a very interesting plot."
      ],
      "metadata": {
        "id": "TJjoMCEFtc0d"
      }
    },
    {
      "cell_type": "code",
      "source": [
        "data[data[\"measurementType\"]==\"substrate\"][\"measurementValue\"]"
      ],
      "metadata": {
        "colab": {
          "base_uri": "https://localhost:8080/"
        },
        "id": "pPauTFVvtTVI",
        "outputId": "00b3fc8d-5fd1-44b9-ec1c-ccaa5699ef26"
      },
      "execution_count": 27,
      "outputs": [
        {
          "output_type": "execute_result",
          "data": {
            "text/plain": [
              "1913                     76.7% bedrock | 23.3% cobble\n",
              "1917                     76.7% bedrock | 23.3% cobble\n",
              "1921                     76.7% bedrock | 23.3% cobble\n",
              "1925                     76.7% bedrock | 23.3% cobble\n",
              "1929                     76.7% bedrock | 23.3% cobble\n",
              "                             ...                     \n",
              "205980    73.3% bedrock | 6.7% boulder | 20.0% cobble\n",
              "205984    73.3% bedrock | 6.7% boulder | 20.0% cobble\n",
              "205988    73.3% bedrock | 6.7% boulder | 20.0% cobble\n",
              "205992    73.3% bedrock | 6.7% boulder | 20.0% cobble\n",
              "205996    73.3% bedrock | 6.7% boulder | 20.0% cobble\n",
              "Name: measurementValue, Length: 3494, dtype: object"
            ]
          },
          "metadata": {},
          "execution_count": 27
        }
      ]
    },
    {
      "cell_type": "code",
      "source": [
        "_sub_data = data[data[\"measurementType\"]==\"substrate\"]\n",
        "_sub_data = _sub_data.sort_values(by=\"eventDate\")"
      ],
      "metadata": {
        "id": "Jm4CtEVguQrd"
      },
      "execution_count": 28,
      "outputs": []
    },
    {
      "cell_type": "code",
      "source": [
        "# let us first create an empty dataframe, we will dress up our organised data there\n",
        "_sub_df = pd.DataFrame()\n",
        "\n",
        "# since each substrate record is a string with data values seperated by \"|\" we will organise data into our newly created dataframe\n",
        "for i in _sub_data[\"measurementValue\"]:\n",
        "  _sub_df=_sub_df.append({x.strip().split(\"%\")[1].strip():x.strip().split(\"%\")[0] for x in i.split('|')}, ignore_index=True)"
      ],
      "metadata": {
        "id": "v7D_QPE7uNz9"
      },
      "execution_count": 29,
      "outputs": []
    },
    {
      "cell_type": "code",
      "source": [
        "_sub_df"
      ],
      "metadata": {
        "colab": {
          "base_uri": "https://localhost:8080/",
          "height": 423
        },
        "id": "flbZjoSDun5p",
        "outputId": "73cba69a-dad6-480d-b448-e536eb8c4983"
      },
      "execution_count": 30,
      "outputs": [
        {
          "output_type": "execute_result",
          "data": {
            "text/plain": [
              "     cobble bedrock boulder sand\n",
              "0      10.0    90.0     NaN  NaN\n",
              "1      10.0    90.0     NaN  NaN\n",
              "2      10.0    90.0     NaN  NaN\n",
              "3      10.0    90.0     NaN  NaN\n",
              "4      10.0    90.0     NaN  NaN\n",
              "...     ...     ...     ...  ...\n",
              "3489   36.7    36.7    26.7  NaN\n",
              "3490   36.7    36.7    26.7  NaN\n",
              "3491   36.7    36.7    26.7  NaN\n",
              "3492   36.7    36.7    26.7  NaN\n",
              "3493   36.7    36.7    26.7  NaN\n",
              "\n",
              "[3494 rows x 4 columns]"
            ],
            "text/html": [
              "\n",
              "  <div id=\"df-4fa72ce1-bfcf-4e5f-9226-20b14522427e\">\n",
              "    <div class=\"colab-df-container\">\n",
              "      <div>\n",
              "<style scoped>\n",
              "    .dataframe tbody tr th:only-of-type {\n",
              "        vertical-align: middle;\n",
              "    }\n",
              "\n",
              "    .dataframe tbody tr th {\n",
              "        vertical-align: top;\n",
              "    }\n",
              "\n",
              "    .dataframe thead th {\n",
              "        text-align: right;\n",
              "    }\n",
              "</style>\n",
              "<table border=\"1\" class=\"dataframe\">\n",
              "  <thead>\n",
              "    <tr style=\"text-align: right;\">\n",
              "      <th></th>\n",
              "      <th>cobble</th>\n",
              "      <th>bedrock</th>\n",
              "      <th>boulder</th>\n",
              "      <th>sand</th>\n",
              "    </tr>\n",
              "  </thead>\n",
              "  <tbody>\n",
              "    <tr>\n",
              "      <th>0</th>\n",
              "      <td>10.0</td>\n",
              "      <td>90.0</td>\n",
              "      <td>NaN</td>\n",
              "      <td>NaN</td>\n",
              "    </tr>\n",
              "    <tr>\n",
              "      <th>1</th>\n",
              "      <td>10.0</td>\n",
              "      <td>90.0</td>\n",
              "      <td>NaN</td>\n",
              "      <td>NaN</td>\n",
              "    </tr>\n",
              "    <tr>\n",
              "      <th>2</th>\n",
              "      <td>10.0</td>\n",
              "      <td>90.0</td>\n",
              "      <td>NaN</td>\n",
              "      <td>NaN</td>\n",
              "    </tr>\n",
              "    <tr>\n",
              "      <th>3</th>\n",
              "      <td>10.0</td>\n",
              "      <td>90.0</td>\n",
              "      <td>NaN</td>\n",
              "      <td>NaN</td>\n",
              "    </tr>\n",
              "    <tr>\n",
              "      <th>4</th>\n",
              "      <td>10.0</td>\n",
              "      <td>90.0</td>\n",
              "      <td>NaN</td>\n",
              "      <td>NaN</td>\n",
              "    </tr>\n",
              "    <tr>\n",
              "      <th>...</th>\n",
              "      <td>...</td>\n",
              "      <td>...</td>\n",
              "      <td>...</td>\n",
              "      <td>...</td>\n",
              "    </tr>\n",
              "    <tr>\n",
              "      <th>3489</th>\n",
              "      <td>36.7</td>\n",
              "      <td>36.7</td>\n",
              "      <td>26.7</td>\n",
              "      <td>NaN</td>\n",
              "    </tr>\n",
              "    <tr>\n",
              "      <th>3490</th>\n",
              "      <td>36.7</td>\n",
              "      <td>36.7</td>\n",
              "      <td>26.7</td>\n",
              "      <td>NaN</td>\n",
              "    </tr>\n",
              "    <tr>\n",
              "      <th>3491</th>\n",
              "      <td>36.7</td>\n",
              "      <td>36.7</td>\n",
              "      <td>26.7</td>\n",
              "      <td>NaN</td>\n",
              "    </tr>\n",
              "    <tr>\n",
              "      <th>3492</th>\n",
              "      <td>36.7</td>\n",
              "      <td>36.7</td>\n",
              "      <td>26.7</td>\n",
              "      <td>NaN</td>\n",
              "    </tr>\n",
              "    <tr>\n",
              "      <th>3493</th>\n",
              "      <td>36.7</td>\n",
              "      <td>36.7</td>\n",
              "      <td>26.7</td>\n",
              "      <td>NaN</td>\n",
              "    </tr>\n",
              "  </tbody>\n",
              "</table>\n",
              "<p>3494 rows × 4 columns</p>\n",
              "</div>\n",
              "      <button class=\"colab-df-convert\" onclick=\"convertToInteractive('df-4fa72ce1-bfcf-4e5f-9226-20b14522427e')\"\n",
              "              title=\"Convert this dataframe to an interactive table.\"\n",
              "              style=\"display:none;\">\n",
              "        \n",
              "  <svg xmlns=\"http://www.w3.org/2000/svg\" height=\"24px\"viewBox=\"0 0 24 24\"\n",
              "       width=\"24px\">\n",
              "    <path d=\"M0 0h24v24H0V0z\" fill=\"none\"/>\n",
              "    <path d=\"M18.56 5.44l.94 2.06.94-2.06 2.06-.94-2.06-.94-.94-2.06-.94 2.06-2.06.94zm-11 1L8.5 8.5l.94-2.06 2.06-.94-2.06-.94L8.5 2.5l-.94 2.06-2.06.94zm10 10l.94 2.06.94-2.06 2.06-.94-2.06-.94-.94-2.06-.94 2.06-2.06.94z\"/><path d=\"M17.41 7.96l-1.37-1.37c-.4-.4-.92-.59-1.43-.59-.52 0-1.04.2-1.43.59L10.3 9.45l-7.72 7.72c-.78.78-.78 2.05 0 2.83L4 21.41c.39.39.9.59 1.41.59.51 0 1.02-.2 1.41-.59l7.78-7.78 2.81-2.81c.8-.78.8-2.07 0-2.86zM5.41 20L4 18.59l7.72-7.72 1.47 1.35L5.41 20z\"/>\n",
              "  </svg>\n",
              "      </button>\n",
              "      \n",
              "  <style>\n",
              "    .colab-df-container {\n",
              "      display:flex;\n",
              "      flex-wrap:wrap;\n",
              "      gap: 12px;\n",
              "    }\n",
              "\n",
              "    .colab-df-convert {\n",
              "      background-color: #E8F0FE;\n",
              "      border: none;\n",
              "      border-radius: 50%;\n",
              "      cursor: pointer;\n",
              "      display: none;\n",
              "      fill: #1967D2;\n",
              "      height: 32px;\n",
              "      padding: 0 0 0 0;\n",
              "      width: 32px;\n",
              "    }\n",
              "\n",
              "    .colab-df-convert:hover {\n",
              "      background-color: #E2EBFA;\n",
              "      box-shadow: 0px 1px 2px rgba(60, 64, 67, 0.3), 0px 1px 3px 1px rgba(60, 64, 67, 0.15);\n",
              "      fill: #174EA6;\n",
              "    }\n",
              "\n",
              "    [theme=dark] .colab-df-convert {\n",
              "      background-color: #3B4455;\n",
              "      fill: #D2E3FC;\n",
              "    }\n",
              "\n",
              "    [theme=dark] .colab-df-convert:hover {\n",
              "      background-color: #434B5C;\n",
              "      box-shadow: 0px 1px 3px 1px rgba(0, 0, 0, 0.15);\n",
              "      filter: drop-shadow(0px 1px 2px rgba(0, 0, 0, 0.3));\n",
              "      fill: #FFFFFF;\n",
              "    }\n",
              "  </style>\n",
              "\n",
              "      <script>\n",
              "        const buttonEl =\n",
              "          document.querySelector('#df-4fa72ce1-bfcf-4e5f-9226-20b14522427e button.colab-df-convert');\n",
              "        buttonEl.style.display =\n",
              "          google.colab.kernel.accessAllowed ? 'block' : 'none';\n",
              "\n",
              "        async function convertToInteractive(key) {\n",
              "          const element = document.querySelector('#df-4fa72ce1-bfcf-4e5f-9226-20b14522427e');\n",
              "          const dataTable =\n",
              "            await google.colab.kernel.invokeFunction('convertToInteractive',\n",
              "                                                     [key], {});\n",
              "          if (!dataTable) return;\n",
              "\n",
              "          const docLinkHtml = 'Like what you see? Visit the ' +\n",
              "            '<a target=\"_blank\" href=https://colab.research.google.com/notebooks/data_table.ipynb>data table notebook</a>'\n",
              "            + ' to learn more about interactive tables.';\n",
              "          element.innerHTML = '';\n",
              "          dataTable['output_type'] = 'display_data';\n",
              "          await google.colab.output.renderOutput(dataTable, element);\n",
              "          const docLink = document.createElement('div');\n",
              "          docLink.innerHTML = docLinkHtml;\n",
              "          element.appendChild(docLink);\n",
              "        }\n",
              "      </script>\n",
              "    </div>\n",
              "  </div>\n",
              "  "
            ]
          },
          "metadata": {},
          "execution_count": 30
        }
      ]
    },
    {
      "cell_type": "markdown",
      "source": [
        "Note that we have got so many NaNs. NaNs mean that the particular kind of substrate is missing so essentially it is 0.0%. So, we will replace all NaNs with 0.0."
      ],
      "metadata": {
        "id": "-ZbCTet1ukLN"
      }
    },
    {
      "cell_type": "code",
      "source": [
        "_sub_df.fillna(0.0, inplace=True)"
      ],
      "metadata": {
        "id": "IvXiz65cu5LB"
      },
      "execution_count": 31,
      "outputs": []
    },
    {
      "cell_type": "markdown",
      "source": [
        "Now let us again draw an area plot."
      ],
      "metadata": {
        "id": "J6rlrHUfvCR8"
      }
    },
    {
      "cell_type": "code",
      "source": [
        "_sub_df = _sub_df.astype(float)\n",
        "_sub_df.plot.area()\n",
        "plt.xlabel(\"years\")\n",
        "plt.ylabel(\"percentage\")\n",
        "plt.xticks(np.arange(0,len(_sub_data[\"eventDate\"]), len(_sub_data[\"eventDate\"])/len(_sub_data[\"eventDate\"].unique())),_sub_data[\"eventDate\"].unique(), rotation=45)\n",
        "plt.title(\"substrate composition (percentage)\");"
      ],
      "metadata": {
        "colab": {
          "base_uri": "https://localhost:8080/",
          "height": 561
        },
        "id": "Rxsj8OTZvAI8",
        "outputId": "a7206a3c-806f-4a9b-ef6a-7127464b140d"
      },
      "execution_count": 32,
      "outputs": [
        {
          "output_type": "display_data",
          "data": {
            "text/plain": [
              "<Figure size 864x576 with 1 Axes>"
            ],
            "image/png": "[encoded data removed]"
          },
          "metadata": {}
        }
      ]
    },
    {
      "cell_type": "markdown",
      "source": [
        "There is a significant amount of variance in this distribution.\n",
        "\n",
        "From this plot we can see that most of the substrate is composed of bedrock but\n",
        "+ the proportion of cobble over time has remained almost constant. Wherever there has been lesser proportion, it has been offset by the occasional spikes.\n",
        "+ proportion of bedrock, even though the highest, is not fixed and oscillates a lot.\n",
        "+ it will be difficult to say whether the mean percetage of boulder has decreased over time due to a high variance."
      ],
      "metadata": {
        "id": "vK1Qu0t4vgu8"
      }
    },
    {
      "cell_type": "markdown",
      "source": [
        "Since substrate composition is quite varied, it will be a nice idea to plot a relation between `cover` and `substrate` since substrate strongly affects the aquatic life."
      ],
      "metadata": {
        "id": "9XY3cRrLvsC4"
      }
    },
    {
      "cell_type": "markdown",
      "source": [
        "### 5. Does `substrate` affect `cover`?\n",
        "\n",
        "We will do some work around for this particular analysis and later plot a correlation heatmap."
      ],
      "metadata": {
        "id": "ej0_etfrcxa0"
      }
    },
    {
      "cell_type": "code",
      "source": [
        "_si_data = data[data[\"measurementType\"]==\"substrate\"]"
      ],
      "metadata": {
        "id": "AwOxJShtwYHp"
      },
      "execution_count": 33,
      "outputs": []
    },
    {
      "cell_type": "code",
      "source": [
        "# let us first create an empty dataframe, we will dress up our organised data there\n",
        "_si_df = pd.DataFrame()\n",
        "\n",
        "# since each substrate record is a string with data values seperated by \"|\" we will organise data into our newly created dataframe.\n",
        "# we will also add the corresponding record's cover parameter if its\n",
        "for i in _si_data.iterrows():\n",
        "  _dict = {x.strip().split(\"%\")[1].strip():x.strip().split(\"%\")[0] for x in i[1][\"measurementValue\"].split('|')}\n",
        "  _dict.update({x.strip().split(\"%\")[1].strip():x.strip().split(\"%\")[0] for x in data[data[\"id\"] == i[1][\"id\"]][data[data[\"id\"] == i[1][\"id\"]][\"measurementType\"]==\"cover\"][\"measurementValue\"].values[0].split(\"|\")})\n",
        "  _si_df=_si_df.append(_dict, ignore_index=True)"
      ],
      "metadata": {
        "id": "SrUyaooQvrDX"
      },
      "execution_count": 34,
      "outputs": []
    },
    {
      "cell_type": "code",
      "source": [
        "# now we will replace all NaNs with 0% and cast every value to float type\n",
        "_si_df.fillna(0.0, inplace=True)\n",
        "_si_df = _si_df.astype(float)\n",
        "_si_df"
      ],
      "metadata": {
        "colab": {
          "base_uri": "https://localhost:8080/",
          "height": 502
        },
        "id": "az6-HYTXzu37",
        "outputId": "147a175b-fb87-4e88-bcef-051d44a3c3d3"
      },
      "execution_count": 35,
      "outputs": [
        {
          "output_type": "execute_result",
          "data": {
            "text/plain": [
              "      bedrock  cobble  crustose coralline  articulated coralline  \\\n",
              "0        76.7    23.3                16.7                   10.0   \n",
              "1        76.7    23.3                16.7                   10.0   \n",
              "2        76.7    23.3                16.7                   10.0   \n",
              "3        76.7    23.3                16.7                   10.0   \n",
              "4        76.7    23.3                16.7                   10.0   \n",
              "...       ...     ...                 ...                    ...   \n",
              "3489     73.3    20.0                33.3                   10.0   \n",
              "3490     73.3    20.0                33.3                   10.0   \n",
              "3491     73.3    20.0                33.3                   10.0   \n",
              "3492     73.3    20.0                33.3                   10.0   \n",
              "3493     73.3    20.0                33.3                   10.0   \n",
              "\n",
              "      encrusting red  red seaweed  brown seaweed  none  other brown seaweed  \\\n",
              "0                3.3         46.7            6.7  16.7                  0.0   \n",
              "1                3.3         46.7            6.7  16.7                  0.0   \n",
              "2                3.3         46.7            6.7  16.7                  0.0   \n",
              "3                3.3         46.7            6.7  16.7                  0.0   \n",
              "4                3.3         46.7            6.7  16.7                  0.0   \n",
              "...              ...          ...            ...   ...                  ...   \n",
              "3489            26.7         20.0            6.7   0.0                  3.3   \n",
              "3490            26.7         20.0            6.7   0.0                  3.3   \n",
              "3491            26.7         20.0            6.7   0.0                  3.3   \n",
              "3492            26.7         20.0            6.7   0.0                  3.3   \n",
              "3493            26.7         20.0            6.7   0.0                  3.3   \n",
              "\n",
              "      sand  boulder  sessile invertebrates  mobile invertebrates  \\\n",
              "0      0.0      0.0                    0.0                   0.0   \n",
              "1      0.0      0.0                    0.0                   0.0   \n",
              "2      0.0      0.0                    0.0                   0.0   \n",
              "3      0.0      0.0                    0.0                   0.0   \n",
              "4      0.0      0.0                    0.0                   0.0   \n",
              "...    ...      ...                    ...                   ...   \n",
              "3489   0.0      6.7                    0.0                   0.0   \n",
              "3490   0.0      6.7                    0.0                   0.0   \n",
              "3491   0.0      6.7                    0.0                   0.0   \n",
              "3492   0.0      6.7                    0.0                   0.0   \n",
              "3493   0.0      6.7                    0.0                   0.0   \n",
              "\n",
              "      green seaweed  seagrasses  \n",
              "0               0.0         0.0  \n",
              "1               0.0         0.0  \n",
              "2               0.0         0.0  \n",
              "3               0.0         0.0  \n",
              "4               0.0         0.0  \n",
              "...             ...         ...  \n",
              "3489            0.0         0.0  \n",
              "3490            0.0         0.0  \n",
              "3491            0.0         0.0  \n",
              "3492            0.0         0.0  \n",
              "3493            0.0         0.0  \n",
              "\n",
              "[3494 rows x 15 columns]"
            ],
            "text/html": [
              "\n",
              "  <div id=\"df-b9266d47-e81c-486f-87dc-d74525930dee\">\n",
              "    <div class=\"colab-df-container\">\n",
              "      <div>\n",
              "<style scoped>\n",
              "    .dataframe tbody tr th:only-of-type {\n",
              "        vertical-align: middle;\n",
              "    }\n",
              "\n",
              "    .dataframe tbody tr th {\n",
              "        vertical-align: top;\n",
              "    }\n",
              "\n",
              "    .dataframe thead th {\n",
              "        text-align: right;\n",
              "    }\n",
              "</style>\n",
              "<table border=\"1\" class=\"dataframe\">\n",
              "  <thead>\n",
              "    <tr style=\"text-align: right;\">\n",
              "      <th></th>\n",
              "      <th>bedrock</th>\n",
              "      <th>cobble</th>\n",
              "      <th>crustose coralline</th>\n",
              "      <th>articulated coralline</th>\n",
              "      <th>encrusting red</th>\n",
              "      <th>red seaweed</th>\n",
              "      <th>brown seaweed</th>\n",
              "      <th>none</th>\n",
              "      <th>other brown seaweed</th>\n",
              "      <th>sand</th>\n",
              "      <th>boulder</th>\n",
              "      <th>sessile invertebrates</th>\n",
              "      <th>mobile invertebrates</th>\n",
              "      <th>green seaweed</th>\n",
              "      <th>seagrasses</th>\n",
              "    </tr>\n",
              "  </thead>\n",
              "  <tbody>\n",
              "    <tr>\n",
              "      <th>0</th>\n",
              "      <td>76.7</td>\n",
              "      <td>23.3</td>\n",
              "      <td>16.7</td>\n",
              "      <td>10.0</td>\n",
              "      <td>3.3</td>\n",
              "      <td>46.7</td>\n",
              "      <td>6.7</td>\n",
              "      <td>16.7</td>\n",
              "      <td>0.0</td>\n",
              "      <td>0.0</td>\n",
              "      <td>0.0</td>\n",
              "      <td>0.0</td>\n",
              "      <td>0.0</td>\n",
              "      <td>0.0</td>\n",
              "      <td>0.0</td>\n",
              "    </tr>\n",
              "    <tr>\n",
              "      <th>1</th>\n",
              "      <td>76.7</td>\n",
              "      <td>23.3</td>\n",
              "      <td>16.7</td>\n",
              "      <td>10.0</td>\n",
              "      <td>3.3</td>\n",
              "      <td>46.7</td>\n",
              "      <td>6.7</td>\n",
              "      <td>16.7</td>\n",
              "      <td>0.0</td>\n",
              "      <td>0.0</td>\n",
              "      <td>0.0</td>\n",
              "      <td>0.0</td>\n",
              "      <td>0.0</td>\n",
              "      <td>0.0</td>\n",
              "      <td>0.0</td>\n",
              "    </tr>\n",
              "    <tr>\n",
              "      <th>2</th>\n",
              "      <td>76.7</td>\n",
              "      <td>23.3</td>\n",
              "      <td>16.7</td>\n",
              "      <td>10.0</td>\n",
              "      <td>3.3</td>\n",
              "      <td>46.7</td>\n",
              "      <td>6.7</td>\n",
              "      <td>16.7</td>\n",
              "      <td>0.0</td>\n",
              "      <td>0.0</td>\n",
              "      <td>0.0</td>\n",
              "      <td>0.0</td>\n",
              "      <td>0.0</td>\n",
              "      <td>0.0</td>\n",
              "      <td>0.0</td>\n",
              "    </tr>\n",
              "    <tr>\n",
              "      <th>3</th>\n",
              "      <td>76.7</td>\n",
              "      <td>23.3</td>\n",
              "      <td>16.7</td>\n",
              "      <td>10.0</td>\n",
              "      <td>3.3</td>\n",
              "      <td>46.7</td>\n",
              "      <td>6.7</td>\n",
              "      <td>16.7</td>\n",
              "      <td>0.0</td>\n",
              "      <td>0.0</td>\n",
              "      <td>0.0</td>\n",
              "      <td>0.0</td>\n",
              "      <td>0.0</td>\n",
              "      <td>0.0</td>\n",
              "      <td>0.0</td>\n",
              "    </tr>\n",
              "    <tr>\n",
              "      <th>4</th>\n",
              "      <td>76.7</td>\n",
              "      <td>23.3</td>\n",
              "      <td>16.7</td>\n",
              "      <td>10.0</td>\n",
              "      <td>3.3</td>\n",
              "      <td>46.7</td>\n",
              "      <td>6.7</td>\n",
              "      <td>16.7</td>\n",
              "      <td>0.0</td>\n",
              "      <td>0.0</td>\n",
              "      <td>0.0</td>\n",
              "      <td>0.0</td>\n",
              "      <td>0.0</td>\n",
              "      <td>0.0</td>\n",
              "      <td>0.0</td>\n",
              "    </tr>\n",
              "    <tr>\n",
              "      <th>...</th>\n",
              "      <td>...</td>\n",
              "      <td>...</td>\n",
              "      <td>...</td>\n",
              "      <td>...</td>\n",
              "      <td>...</td>\n",
              "      <td>...</td>\n",
              "      <td>...</td>\n",
              "      <td>...</td>\n",
              "      <td>...</td>\n",
              "      <td>...</td>\n",
              "      <td>...</td>\n",
              "      <td>...</td>\n",
              "      <td>...</td>\n",
              "      <td>...</td>\n",
              "      <td>...</td>\n",
              "    </tr>\n",
              "    <tr>\n",
              "      <th>3489</th>\n",
              "      <td>73.3</td>\n",
              "      <td>20.0</td>\n",
              "      <td>33.3</td>\n",
              "      <td>10.0</td>\n",
              "      <td>26.7</td>\n",
              "      <td>20.0</td>\n",
              "      <td>6.7</td>\n",
              "      <td>0.0</td>\n",
              "      <td>3.3</td>\n",
              "      <td>0.0</td>\n",
              "      <td>6.7</td>\n",
              "      <td>0.0</td>\n",
              "      <td>0.0</td>\n",
              "      <td>0.0</td>\n",
              "      <td>0.0</td>\n",
              "    </tr>\n",
              "    <tr>\n",
              "      <th>3490</th>\n",
              "      <td>73.3</td>\n",
              "      <td>20.0</td>\n",
              "      <td>33.3</td>\n",
              "      <td>10.0</td>\n",
              "      <td>26.7</td>\n",
              "      <td>20.0</td>\n",
              "      <td>6.7</td>\n",
              "      <td>0.0</td>\n",
              "      <td>3.3</td>\n",
              "      <td>0.0</td>\n",
              "      <td>6.7</td>\n",
              "      <td>0.0</td>\n",
              "      <td>0.0</td>\n",
              "      <td>0.0</td>\n",
              "      <td>0.0</td>\n",
              "    </tr>\n",
              "    <tr>\n",
              "      <th>3491</th>\n",
              "      <td>73.3</td>\n",
              "      <td>20.0</td>\n",
              "      <td>33.3</td>\n",
              "      <td>10.0</td>\n",
              "      <td>26.7</td>\n",
              "      <td>20.0</td>\n",
              "      <td>6.7</td>\n",
              "      <td>0.0</td>\n",
              "      <td>3.3</td>\n",
              "      <td>0.0</td>\n",
              "      <td>6.7</td>\n",
              "      <td>0.0</td>\n",
              "      <td>0.0</td>\n",
              "      <td>0.0</td>\n",
              "      <td>0.0</td>\n",
              "    </tr>\n",
              "    <tr>\n",
              "      <th>3492</th>\n",
              "      <td>73.3</td>\n",
              "      <td>20.0</td>\n",
              "      <td>33.3</td>\n",
              "      <td>10.0</td>\n",
              "      <td>26.7</td>\n",
              "      <td>20.0</td>\n",
              "      <td>6.7</td>\n",
              "      <td>0.0</td>\n",
              "      <td>3.3</td>\n",
              "      <td>0.0</td>\n",
              "      <td>6.7</td>\n",
              "      <td>0.0</td>\n",
              "      <td>0.0</td>\n",
              "      <td>0.0</td>\n",
              "      <td>0.0</td>\n",
              "    </tr>\n",
              "    <tr>\n",
              "      <th>3493</th>\n",
              "      <td>73.3</td>\n",
              "      <td>20.0</td>\n",
              "      <td>33.3</td>\n",
              "      <td>10.0</td>\n",
              "      <td>26.7</td>\n",
              "      <td>20.0</td>\n",
              "      <td>6.7</td>\n",
              "      <td>0.0</td>\n",
              "      <td>3.3</td>\n",
              "      <td>0.0</td>\n",
              "      <td>6.7</td>\n",
              "      <td>0.0</td>\n",
              "      <td>0.0</td>\n",
              "      <td>0.0</td>\n",
              "      <td>0.0</td>\n",
              "    </tr>\n",
              "  </tbody>\n",
              "</table>\n",
              "<p>3494 rows × 15 columns</p>\n",
              "</div>\n",
              "      <button class=\"colab-df-convert\" onclick=\"convertToInteractive('df-b9266d47-e81c-486f-87dc-d74525930dee')\"\n",
              "              title=\"Convert this dataframe to an interactive table.\"\n",
              "              style=\"display:none;\">\n",
              "        \n",
              "  <svg xmlns=\"http://www.w3.org/2000/svg\" height=\"24px\"viewBox=\"0 0 24 24\"\n",
              "       width=\"24px\">\n",
              "    <path d=\"M0 0h24v24H0V0z\" fill=\"none\"/>\n",
              "    <path d=\"M18.56 5.44l.94 2.06.94-2.06 2.06-.94-2.06-.94-.94-2.06-.94 2.06-2.06.94zm-11 1L8.5 8.5l.94-2.06 2.06-.94-2.06-.94L8.5 2.5l-.94 2.06-2.06.94zm10 10l.94 2.06.94-2.06 2.06-.94-2.06-.94-.94-2.06-.94 2.06-2.06.94z\"/><path d=\"M17.41 7.96l-1.37-1.37c-.4-.4-.92-.59-1.43-.59-.52 0-1.04.2-1.43.59L10.3 9.45l-7.72 7.72c-.78.78-.78 2.05 0 2.83L4 21.41c.39.39.9.59 1.41.59.51 0 1.02-.2 1.41-.59l7.78-7.78 2.81-2.81c.8-.78.8-2.07 0-2.86zM5.41 20L4 18.59l7.72-7.72 1.47 1.35L5.41 20z\"/>\n",
              "  </svg>\n",
              "      </button>\n",
              "      \n",
              "  <style>\n",
              "    .colab-df-container {\n",
              "      display:flex;\n",
              "      flex-wrap:wrap;\n",
              "      gap: 12px;\n",
              "    }\n",
              "\n",
              "    .colab-df-convert {\n",
              "      background-color: #E8F0FE;\n",
              "      border: none;\n",
              "      border-radius: 50%;\n",
              "      cursor: pointer;\n",
              "      display: none;\n",
              "      fill: #1967D2;\n",
              "      height: 32px;\n",
              "      padding: 0 0 0 0;\n",
              "      width: 32px;\n",
              "    }\n",
              "\n",
              "    .colab-df-convert:hover {\n",
              "      background-color: #E2EBFA;\n",
              "      box-shadow: 0px 1px 2px rgba(60, 64, 67, 0.3), 0px 1px 3px 1px rgba(60, 64, 67, 0.15);\n",
              "      fill: #174EA6;\n",
              "    }\n",
              "\n",
              "    [theme=dark] .colab-df-convert {\n",
              "      background-color: #3B4455;\n",
              "      fill: #D2E3FC;\n",
              "    }\n",
              "\n",
              "    [theme=dark] .colab-df-convert:hover {\n",
              "      background-color: #434B5C;\n",
              "      box-shadow: 0px 1px 3px 1px rgba(0, 0, 0, 0.15);\n",
              "      filter: drop-shadow(0px 1px 2px rgba(0, 0, 0, 0.3));\n",
              "      fill: #FFFFFF;\n",
              "    }\n",
              "  </style>\n",
              "\n",
              "      <script>\n",
              "        const buttonEl =\n",
              "          document.querySelector('#df-b9266d47-e81c-486f-87dc-d74525930dee button.colab-df-convert');\n",
              "        buttonEl.style.display =\n",
              "          google.colab.kernel.accessAllowed ? 'block' : 'none';\n",
              "\n",
              "        async function convertToInteractive(key) {\n",
              "          const element = document.querySelector('#df-b9266d47-e81c-486f-87dc-d74525930dee');\n",
              "          const dataTable =\n",
              "            await google.colab.kernel.invokeFunction('convertToInteractive',\n",
              "                                                     [key], {});\n",
              "          if (!dataTable) return;\n",
              "\n",
              "          const docLinkHtml = 'Like what you see? Visit the ' +\n",
              "            '<a target=\"_blank\" href=https://colab.research.google.com/notebooks/data_table.ipynb>data table notebook</a>'\n",
              "            + ' to learn more about interactive tables.';\n",
              "          element.innerHTML = '';\n",
              "          dataTable['output_type'] = 'display_data';\n",
              "          await google.colab.output.renderOutput(dataTable, element);\n",
              "          const docLink = document.createElement('div');\n",
              "          docLink.innerHTML = docLinkHtml;\n",
              "          element.appendChild(docLink);\n",
              "        }\n",
              "      </script>\n",
              "    </div>\n",
              "  </div>\n",
              "  "
            ]
          },
          "metadata": {},
          "execution_count": 35
        }
      ]
    },
    {
      "cell_type": "markdown",
      "source": [
        "Now this looks good. We have done most of the hardwork and the time has come to do the most interesting part of this analysis. Fasten your seatbelts!\n",
        "\n",
        "We are going to plot a correlation plot between `substrate` parameters and `cover` values to check whether `substrate` indeed affects `cover` or not."
      ],
      "metadata": {
        "id": "45N9L2lBcQah"
      }
    },
    {
      "cell_type": "code",
      "source": [
        "# let's get the correlation matrix first\n",
        "corr = _si_df.corr()\n",
        "\n",
        "# now we will drop the repeated columns from both axis\n",
        "corr.drop([\"other brown seaweed\", \"crustose coralline\",\"articulated coralline\",\"brown seaweed\",\"encrusting red\",\"red seaweed\",\"sessile invertebrates\",\"mobile invertebrates\",\"green seaweed\",\"seagrasses\",\"none\"], axis=0, inplace=True)\n",
        "corr.drop([\"bedrock\",\"cobble\",\"sand\",\"boulder\"], axis=1, inplace=True)\n",
        "\n",
        "# now let us draw the correlation heatmap\n",
        "sns.heatmap(corr)\n",
        "plt.title(\"Correlation heatmap between `cover` and `substrate`\")\n",
        "plt.xlabel('cover values')\n",
        "plt.ylabel('substrate values');"
      ],
      "metadata": {
        "colab": {
          "base_uri": "https://localhost:8080/",
          "height": 629
        },
        "id": "wHWDE7EOcbsq",
        "outputId": "900de002-ea70-4138-c93b-0b5d6be49f12"
      },
      "execution_count": 37,
      "outputs": [
        {
          "output_type": "display_data",
          "data": {
            "text/plain": [
              "<Figure size 864x576 with 2 Axes>"
            ],
            "image/png": "[encoded data removed]"
          },
          "metadata": {}
        }
      ]
    },
    {
      "cell_type": "markdown",
      "source": [
        "From this correlation plot we can make out that:\n",
        "+ `sand` substrate and `none` cover are highly correlated, no cover was mostly found when `sand` substrate was significant\n",
        "+ `bedrock` substrate and `other brown seaweed` are highly negatively correlated, which means when `bedrock` was signficant `other brown seaweed` was hardly found.\n",
        "+ similarly, `sand` and `crustose coralline` are also significantly negatively correlated."
      ],
      "metadata": {
        "id": "_IJ9E1v1exse"
      }
    }
  ]
}